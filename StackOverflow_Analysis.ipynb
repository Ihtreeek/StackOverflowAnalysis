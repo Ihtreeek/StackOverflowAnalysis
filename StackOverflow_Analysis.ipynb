{
  "nbformat": 4,
  "nbformat_minor": 0,
  "metadata": {
    "colab": {
      "provenance": []
    },
    "kernelspec": {
      "name": "python3",
      "display_name": "Python 3"
    },
    "language_info": {
      "name": "python"
    }
  },
  "cells": [
    {
      "cell_type": "markdown",
      "source": [
        "###Stack Overflow is a question and answer website for programmers.The website serves as a platform for users to ask and answer questions, and, through membership and active participation, to vote questions and answers up or down  and edit questions and answers."
      ],
      "metadata": {
        "id": "cXO3i1RrXf2G"
      }
    },
    {
      "cell_type": "markdown",
      "source": [
        "### Installing Libraries"
      ],
      "metadata": {
        "id": "bH9-eHoidFat"
      }
    },
    {
      "cell_type": "code",
      "source": [
        "import numpy as np\n",
        "import pandas as pd\n",
        "import seaborn as sns\n",
        "import matplotlib\n",
        "import matplotlib.pyplot as plt\n",
        "%matplotlib inline\n",
        "\n",
        "sns.set_style('darkgrid')\n",
        "matplotlib.rcParams['font.size'] = 14\n",
        "matplotlib.rcParams['figure.figsize'] = (9, 5)\n",
        "matplotlib.rcParams['figure.facecolor'] = '#00000000'"
      ],
      "metadata": {
        "id": "5pX8GppmdMWd"
      },
      "execution_count": null,
      "outputs": []
    },
    {
      "cell_type": "markdown",
      "source": [
        "###Dataset\n",
        "The dataset contains responses to an annual survey conducted by StackOverflow. There are three files in the dataset.\n",
        "README.txt - Information about the dataset\n",
        "survey_results_schema.csv - The list of questions, and shortcodes for each question\n",
        "survey_results_public.csv - The full list of responses to the questions"
      ],
      "metadata": {
        "id": "MXWBG0tdci7L"
      }
    },
    {
      "cell_type": "code",
      "source": [
        "survey_raw_df = pd.read_csv('/content/survey_results_public.csv')"
      ],
      "metadata": {
        "id": "NdFjHL808obX"
      },
      "execution_count": null,
      "outputs": []
    },
    {
      "cell_type": "code",
      "source": [
        "survey_raw_df.head(5)"
      ],
      "metadata": {
        "colab": {
          "base_uri": "https://localhost:8080/",
          "height": 629
        },
        "id": "qvN5ToU68qiR",
        "outputId": "2de6cb89-cb93-4b70-b3d9-e2f99679d0d4"
      },
      "execution_count": null,
      "outputs": [
        {
          "output_type": "execute_result",
          "data": {
            "text/plain": [
              "   Respondent                                         MainBranch Hobbyist  \\\n",
              "0           1                     I am a developer by profession      Yes   \n",
              "1           2                     I am a developer by profession       No   \n",
              "2           3                        I code primarily as a hobby      Yes   \n",
              "3           4                     I am a developer by profession      Yes   \n",
              "4           5  I used to be a developer by profession, but no...      Yes   \n",
              "\n",
              "    Age Age1stCode CompFreq  CompTotal  ConvertedComp             Country  \\\n",
              "0   NaN         13  Monthly        NaN            NaN             Germany   \n",
              "1   NaN         19      NaN        NaN            NaN      United Kingdom   \n",
              "2   NaN         15      NaN        NaN            NaN  Russian Federation   \n",
              "3  25.0         18      NaN        NaN            NaN             Albania   \n",
              "4  31.0         16      NaN        NaN            NaN       United States   \n",
              "\n",
              "     CurrencyDesc  ...                  SurveyEase           SurveyLength  \\\n",
              "0   European Euro  ...  Neither easy nor difficult  Appropriate in length   \n",
              "1  Pound sterling  ...                         NaN                    NaN   \n",
              "2             NaN  ...  Neither easy nor difficult  Appropriate in length   \n",
              "3    Albanian lek  ...                         NaN                    NaN   \n",
              "4             NaN  ...                        Easy              Too short   \n",
              "\n",
              "  Trans                                     UndergradMajor  \\\n",
              "0    No  Computer science, computer engineering, or sof...   \n",
              "1   NaN  Computer science, computer engineering, or sof...   \n",
              "2   NaN                                                NaN   \n",
              "3    No  Computer science, computer engineering, or sof...   \n",
              "4    No  Computer science, computer engineering, or sof...   \n",
              "\n",
              "  WebframeDesireNextYear    WebframeWorkedWith  \\\n",
              "0           ASP.NET Core  ASP.NET;ASP.NET Core   \n",
              "1                    NaN                   NaN   \n",
              "2                    NaN                   NaN   \n",
              "3                    NaN                   NaN   \n",
              "4   Django;Ruby on Rails         Ruby on Rails   \n",
              "\n",
              "                              WelcomeChange WorkWeekHrs YearsCode YearsCodePro  \n",
              "0   Just as welcome now as I felt last year        50.0        36           27  \n",
              "1  Somewhat more welcome now than last year         NaN         7            4  \n",
              "2  Somewhat more welcome now than last year         NaN         4          NaN  \n",
              "3  Somewhat less welcome now than last year        40.0         7            4  \n",
              "4   Just as welcome now as I felt last year         NaN        15            8  \n",
              "\n",
              "[5 rows x 61 columns]"
            ],
            "text/html": [
              "\n",
              "  <div id=\"df-c7198f15-db0e-420a-b58e-709153228494\">\n",
              "    <div class=\"colab-df-container\">\n",
              "      <div>\n",
              "<style scoped>\n",
              "    .dataframe tbody tr th:only-of-type {\n",
              "        vertical-align: middle;\n",
              "    }\n",
              "\n",
              "    .dataframe tbody tr th {\n",
              "        vertical-align: top;\n",
              "    }\n",
              "\n",
              "    .dataframe thead th {\n",
              "        text-align: right;\n",
              "    }\n",
              "</style>\n",
              "<table border=\"1\" class=\"dataframe\">\n",
              "  <thead>\n",
              "    <tr style=\"text-align: right;\">\n",
              "      <th></th>\n",
              "      <th>Respondent</th>\n",
              "      <th>MainBranch</th>\n",
              "      <th>Hobbyist</th>\n",
              "      <th>Age</th>\n",
              "      <th>Age1stCode</th>\n",
              "      <th>CompFreq</th>\n",
              "      <th>CompTotal</th>\n",
              "      <th>ConvertedComp</th>\n",
              "      <th>Country</th>\n",
              "      <th>CurrencyDesc</th>\n",
              "      <th>...</th>\n",
              "      <th>SurveyEase</th>\n",
              "      <th>SurveyLength</th>\n",
              "      <th>Trans</th>\n",
              "      <th>UndergradMajor</th>\n",
              "      <th>WebframeDesireNextYear</th>\n",
              "      <th>WebframeWorkedWith</th>\n",
              "      <th>WelcomeChange</th>\n",
              "      <th>WorkWeekHrs</th>\n",
              "      <th>YearsCode</th>\n",
              "      <th>YearsCodePro</th>\n",
              "    </tr>\n",
              "  </thead>\n",
              "  <tbody>\n",
              "    <tr>\n",
              "      <th>0</th>\n",
              "      <td>1</td>\n",
              "      <td>I am a developer by profession</td>\n",
              "      <td>Yes</td>\n",
              "      <td>NaN</td>\n",
              "      <td>13</td>\n",
              "      <td>Monthly</td>\n",
              "      <td>NaN</td>\n",
              "      <td>NaN</td>\n",
              "      <td>Germany</td>\n",
              "      <td>European Euro</td>\n",
              "      <td>...</td>\n",
              "      <td>Neither easy nor difficult</td>\n",
              "      <td>Appropriate in length</td>\n",
              "      <td>No</td>\n",
              "      <td>Computer science, computer engineering, or sof...</td>\n",
              "      <td>ASP.NET Core</td>\n",
              "      <td>ASP.NET;ASP.NET Core</td>\n",
              "      <td>Just as welcome now as I felt last year</td>\n",
              "      <td>50.0</td>\n",
              "      <td>36</td>\n",
              "      <td>27</td>\n",
              "    </tr>\n",
              "    <tr>\n",
              "      <th>1</th>\n",
              "      <td>2</td>\n",
              "      <td>I am a developer by profession</td>\n",
              "      <td>No</td>\n",
              "      <td>NaN</td>\n",
              "      <td>19</td>\n",
              "      <td>NaN</td>\n",
              "      <td>NaN</td>\n",
              "      <td>NaN</td>\n",
              "      <td>United Kingdom</td>\n",
              "      <td>Pound sterling</td>\n",
              "      <td>...</td>\n",
              "      <td>NaN</td>\n",
              "      <td>NaN</td>\n",
              "      <td>NaN</td>\n",
              "      <td>Computer science, computer engineering, or sof...</td>\n",
              "      <td>NaN</td>\n",
              "      <td>NaN</td>\n",
              "      <td>Somewhat more welcome now than last year</td>\n",
              "      <td>NaN</td>\n",
              "      <td>7</td>\n",
              "      <td>4</td>\n",
              "    </tr>\n",
              "    <tr>\n",
              "      <th>2</th>\n",
              "      <td>3</td>\n",
              "      <td>I code primarily as a hobby</td>\n",
              "      <td>Yes</td>\n",
              "      <td>NaN</td>\n",
              "      <td>15</td>\n",
              "      <td>NaN</td>\n",
              "      <td>NaN</td>\n",
              "      <td>NaN</td>\n",
              "      <td>Russian Federation</td>\n",
              "      <td>NaN</td>\n",
              "      <td>...</td>\n",
              "      <td>Neither easy nor difficult</td>\n",
              "      <td>Appropriate in length</td>\n",
              "      <td>NaN</td>\n",
              "      <td>NaN</td>\n",
              "      <td>NaN</td>\n",
              "      <td>NaN</td>\n",
              "      <td>Somewhat more welcome now than last year</td>\n",
              "      <td>NaN</td>\n",
              "      <td>4</td>\n",
              "      <td>NaN</td>\n",
              "    </tr>\n",
              "    <tr>\n",
              "      <th>3</th>\n",
              "      <td>4</td>\n",
              "      <td>I am a developer by profession</td>\n",
              "      <td>Yes</td>\n",
              "      <td>25.0</td>\n",
              "      <td>18</td>\n",
              "      <td>NaN</td>\n",
              "      <td>NaN</td>\n",
              "      <td>NaN</td>\n",
              "      <td>Albania</td>\n",
              "      <td>Albanian lek</td>\n",
              "      <td>...</td>\n",
              "      <td>NaN</td>\n",
              "      <td>NaN</td>\n",
              "      <td>No</td>\n",
              "      <td>Computer science, computer engineering, or sof...</td>\n",
              "      <td>NaN</td>\n",
              "      <td>NaN</td>\n",
              "      <td>Somewhat less welcome now than last year</td>\n",
              "      <td>40.0</td>\n",
              "      <td>7</td>\n",
              "      <td>4</td>\n",
              "    </tr>\n",
              "    <tr>\n",
              "      <th>4</th>\n",
              "      <td>5</td>\n",
              "      <td>I used to be a developer by profession, but no...</td>\n",
              "      <td>Yes</td>\n",
              "      <td>31.0</td>\n",
              "      <td>16</td>\n",
              "      <td>NaN</td>\n",
              "      <td>NaN</td>\n",
              "      <td>NaN</td>\n",
              "      <td>United States</td>\n",
              "      <td>NaN</td>\n",
              "      <td>...</td>\n",
              "      <td>Easy</td>\n",
              "      <td>Too short</td>\n",
              "      <td>No</td>\n",
              "      <td>Computer science, computer engineering, or sof...</td>\n",
              "      <td>Django;Ruby on Rails</td>\n",
              "      <td>Ruby on Rails</td>\n",
              "      <td>Just as welcome now as I felt last year</td>\n",
              "      <td>NaN</td>\n",
              "      <td>15</td>\n",
              "      <td>8</td>\n",
              "    </tr>\n",
              "  </tbody>\n",
              "</table>\n",
              "<p>5 rows × 61 columns</p>\n",
              "</div>\n",
              "      <button class=\"colab-df-convert\" onclick=\"convertToInteractive('df-c7198f15-db0e-420a-b58e-709153228494')\"\n",
              "              title=\"Convert this dataframe to an interactive table.\"\n",
              "              style=\"display:none;\">\n",
              "        \n",
              "  <svg xmlns=\"http://www.w3.org/2000/svg\" height=\"24px\"viewBox=\"0 0 24 24\"\n",
              "       width=\"24px\">\n",
              "    <path d=\"M0 0h24v24H0V0z\" fill=\"none\"/>\n",
              "    <path d=\"M18.56 5.44l.94 2.06.94-2.06 2.06-.94-2.06-.94-.94-2.06-.94 2.06-2.06.94zm-11 1L8.5 8.5l.94-2.06 2.06-.94-2.06-.94L8.5 2.5l-.94 2.06-2.06.94zm10 10l.94 2.06.94-2.06 2.06-.94-2.06-.94-.94-2.06-.94 2.06-2.06.94z\"/><path d=\"M17.41 7.96l-1.37-1.37c-.4-.4-.92-.59-1.43-.59-.52 0-1.04.2-1.43.59L10.3 9.45l-7.72 7.72c-.78.78-.78 2.05 0 2.83L4 21.41c.39.39.9.59 1.41.59.51 0 1.02-.2 1.41-.59l7.78-7.78 2.81-2.81c.8-.78.8-2.07 0-2.86zM5.41 20L4 18.59l7.72-7.72 1.47 1.35L5.41 20z\"/>\n",
              "  </svg>\n",
              "      </button>\n",
              "      \n",
              "  <style>\n",
              "    .colab-df-container {\n",
              "      display:flex;\n",
              "      flex-wrap:wrap;\n",
              "      gap: 12px;\n",
              "    }\n",
              "\n",
              "    .colab-df-convert {\n",
              "      background-color: #E8F0FE;\n",
              "      border: none;\n",
              "      border-radius: 50%;\n",
              "      cursor: pointer;\n",
              "      display: none;\n",
              "      fill: #1967D2;\n",
              "      height: 32px;\n",
              "      padding: 0 0 0 0;\n",
              "      width: 32px;\n",
              "    }\n",
              "\n",
              "    .colab-df-convert:hover {\n",
              "      background-color: #E2EBFA;\n",
              "      box-shadow: 0px 1px 2px rgba(60, 64, 67, 0.3), 0px 1px 3px 1px rgba(60, 64, 67, 0.15);\n",
              "      fill: #174EA6;\n",
              "    }\n",
              "\n",
              "    [theme=dark] .colab-df-convert {\n",
              "      background-color: #3B4455;\n",
              "      fill: #D2E3FC;\n",
              "    }\n",
              "\n",
              "    [theme=dark] .colab-df-convert:hover {\n",
              "      background-color: #434B5C;\n",
              "      box-shadow: 0px 1px 3px 1px rgba(0, 0, 0, 0.15);\n",
              "      filter: drop-shadow(0px 1px 2px rgba(0, 0, 0, 0.3));\n",
              "      fill: #FFFFFF;\n",
              "    }\n",
              "  </style>\n",
              "\n",
              "      <script>\n",
              "        const buttonEl =\n",
              "          document.querySelector('#df-c7198f15-db0e-420a-b58e-709153228494 button.colab-df-convert');\n",
              "        buttonEl.style.display =\n",
              "          google.colab.kernel.accessAllowed ? 'block' : 'none';\n",
              "\n",
              "        async function convertToInteractive(key) {\n",
              "          const element = document.querySelector('#df-c7198f15-db0e-420a-b58e-709153228494');\n",
              "          const dataTable =\n",
              "            await google.colab.kernel.invokeFunction('convertToInteractive',\n",
              "                                                     [key], {});\n",
              "          if (!dataTable) return;\n",
              "\n",
              "          const docLinkHtml = 'Like what you see? Visit the ' +\n",
              "            '<a target=\"_blank\" href=https://colab.research.google.com/notebooks/data_table.ipynb>data table notebook</a>'\n",
              "            + ' to learn more about interactive tables.';\n",
              "          element.innerHTML = '';\n",
              "          dataTable['output_type'] = 'display_data';\n",
              "          await google.colab.output.renderOutput(dataTable, element);\n",
              "          const docLink = document.createElement('div');\n",
              "          docLink.innerHTML = docLinkHtml;\n",
              "          element.appendChild(docLink);\n",
              "        }\n",
              "      </script>\n",
              "    </div>\n",
              "  </div>\n",
              "  "
            ]
          },
          "metadata": {},
          "execution_count": 6
        }
      ]
    },
    {
      "cell_type": "code",
      "source": [
        "survey_raw_df.shape"
      ],
      "metadata": {
        "colab": {
          "base_uri": "https://localhost:8080/"
        },
        "id": "BmbtdRG78uz0",
        "outputId": "ab722944-92c8-47ec-c60e-a7b950b8fa2e"
      },
      "execution_count": null,
      "outputs": [
        {
          "output_type": "execute_result",
          "data": {
            "text/plain": [
              "(64461, 61)"
            ]
          },
          "metadata": {},
          "execution_count": 7
        }
      ]
    },
    {
      "cell_type": "markdown",
      "source": [
        "####Dataset contains the responses of 64461 persons against 61 questions."
      ],
      "metadata": {
        "id": "3VIj-hn4ev0R"
      }
    },
    {
      "cell_type": "markdown",
      "source": [
        "#### Lets view the columns in dataframe."
      ],
      "metadata": {
        "id": "b3XclZd2fG9A"
      }
    },
    {
      "cell_type": "code",
      "source": [
        "survey_raw_df.columns"
      ],
      "metadata": {
        "colab": {
          "base_uri": "https://localhost:8080/"
        },
        "id": "KkPp5EQd82Nc",
        "outputId": "78e9c60e-a59d-4011-c081-a4690b03d664"
      },
      "execution_count": null,
      "outputs": [
        {
          "output_type": "execute_result",
          "data": {
            "text/plain": [
              "Index(['Respondent', 'MainBranch', 'Hobbyist', 'Age', 'Age1stCode', 'CompFreq',\n",
              "       'CompTotal', 'ConvertedComp', 'Country', 'CurrencyDesc',\n",
              "       'CurrencySymbol', 'DatabaseDesireNextYear', 'DatabaseWorkedWith',\n",
              "       'DevType', 'EdLevel', 'Employment', 'Ethnicity', 'Gender', 'JobFactors',\n",
              "       'JobSat', 'JobSeek', 'LanguageDesireNextYear', 'LanguageWorkedWith',\n",
              "       'MiscTechDesireNextYear', 'MiscTechWorkedWith',\n",
              "       'NEWCollabToolsDesireNextYear', 'NEWCollabToolsWorkedWith', 'NEWDevOps',\n",
              "       'NEWDevOpsImpt', 'NEWEdImpt', 'NEWJobHunt', 'NEWJobHuntResearch',\n",
              "       'NEWLearn', 'NEWOffTopic', 'NEWOnboardGood', 'NEWOtherComms',\n",
              "       'NEWOvertime', 'NEWPurchaseResearch', 'NEWPurpleLink', 'NEWSOSites',\n",
              "       'NEWStuck', 'OpSys', 'OrgSize', 'PlatformDesireNextYear',\n",
              "       'PlatformWorkedWith', 'PurchaseWhat', 'Sexuality', 'SOAccount',\n",
              "       'SOComm', 'SOPartFreq', 'SOVisitFreq', 'SurveyEase', 'SurveyLength',\n",
              "       'Trans', 'UndergradMajor', 'WebframeDesireNextYear',\n",
              "       'WebframeWorkedWith', 'WelcomeChange', 'WorkWeekHrs', 'YearsCode',\n",
              "       'YearsCodePro'],\n",
              "      dtype='object')"
            ]
          },
          "metadata": {},
          "execution_count": 8
        }
      ]
    },
    {
      "cell_type": "markdown",
      "source": [
        "#### We can refer to the schema file to see the full text of each question. The schema file contains only two columns: Column and QuestionText. "
      ],
      "metadata": {
        "id": "CVo0-e7efbLt"
      }
    },
    {
      "cell_type": "code",
      "source": [
        "schema_raw = pd.read_csv('/content/survey_results_schema.csv', index_col='Column').QuestionText"
      ],
      "metadata": {
        "id": "_e4wOWlB851C"
      },
      "execution_count": null,
      "outputs": []
    },
    {
      "cell_type": "code",
      "source": [
        "schema_raw"
      ],
      "metadata": {
        "colab": {
          "base_uri": "https://localhost:8080/"
        },
        "id": "snJPGFxI885B",
        "outputId": "2ed7f218-1080-4ba9-fa2a-8c7684c44800"
      },
      "execution_count": null,
      "outputs": [
        {
          "output_type": "execute_result",
          "data": {
            "text/plain": [
              "Column\n",
              "Respondent            Randomized respondent ID number (not in order ...\n",
              "MainBranch            Which of the following options best describes ...\n",
              "Hobbyist                                        Do you code as a hobby?\n",
              "Age                   What is your age (in years)? If you prefer not...\n",
              "Age1stCode            At what age did you write your first line of c...\n",
              "                                            ...                        \n",
              "WebframeWorkedWith    Which web frameworks have you done extensive d...\n",
              "WelcomeChange         Compared to last year, how welcome do you feel...\n",
              "WorkWeekHrs           On average, how many hours per week do you wor...\n",
              "YearsCode             Including any education, how many years have y...\n",
              "YearsCodePro          NOT including education, how many years have y...\n",
              "Name: QuestionText, Length: 61, dtype: object"
            ]
          },
          "metadata": {},
          "execution_count": 11
        }
      ]
    },
    {
      "cell_type": "markdown",
      "source": [
        "## Data Preparation and Cleaning"
      ],
      "metadata": {
        "id": "y3UG237j0q9G"
      }
    },
    {
      "cell_type": "markdown",
      "source": [
        "###While the survey responses contain a wealth of information, we'll limit our analysis to the following areas:\n",
        "\n",
        "Demographics of the survey respondents and the global programming community\n",
        "\n",
        "Way of learning in programming\n",
        "\n",
        "Perspective change with coding experience\n",
        "\n",
        "Let's select a subset of columns with the relevant data for our analysis"
      ],
      "metadata": {
        "id": "CaygrYnuzO0r"
      }
    },
    {
      "cell_type": "code",
      "source": [
        "selected_columns = [\n",
        "    # Demographics\n",
        "    'Country',\n",
        "    'Age',\n",
        "    'Gender',\n",
        "    'EdLevel',\n",
        "    'UndergradMajor',\n",
        "    # Programming experience\n",
        "    'Hobbyist',\n",
        "    'Age1stCode',\n",
        "    'YearsCode',\n",
        "    'YearsCodePro',\n",
        "    # Employment\n",
        "    'Employment',\n",
        "    'DevType',\n",
        "    #Learning\n",
        "    'NEWLearn',\n",
        "    'NEWPurpleLink',\n",
        "    'NEWJobHuntResearch',\n",
        "    'NEWEdImpt',\n",
        "    'NEWStuck'\n",
        "]"
      ],
      "metadata": {
        "id": "tXPiohnK9Az9"
      },
      "execution_count": null,
      "outputs": []
    },
    {
      "cell_type": "code",
      "source": [
        "len(selected_columns)"
      ],
      "metadata": {
        "colab": {
          "base_uri": "https://localhost:8080/"
        },
        "id": "i1qmFuCF9_Ym",
        "outputId": "d4d1274e-a468-4980-8d23-36a2caefe481"
      },
      "execution_count": null,
      "outputs": [
        {
          "output_type": "execute_result",
          "data": {
            "text/plain": [
              "16"
            ]
          },
          "metadata": {},
          "execution_count": 13
        }
      ]
    },
    {
      "cell_type": "markdown",
      "source": [
        "#### Let's extract a copy of the data from these columns into a new data frame survey_df. We can continue to modify further without affecting the original data frame."
      ],
      "metadata": {
        "id": "JigdXDSMz7fl"
      }
    },
    {
      "cell_type": "code",
      "source": [
        "survey_df = survey_raw_df[selected_columns].copy()"
      ],
      "metadata": {
        "id": "fQ-vmt48-CB5"
      },
      "execution_count": null,
      "outputs": []
    },
    {
      "cell_type": "code",
      "source": [
        "schema = schema_raw[selected_columns]"
      ],
      "metadata": {
        "id": "Yd0eEu9q-Ghu"
      },
      "execution_count": null,
      "outputs": []
    },
    {
      "cell_type": "code",
      "source": [
        "survey_df.info()"
      ],
      "metadata": {
        "colab": {
          "base_uri": "https://localhost:8080/"
        },
        "id": "Gtc4QdrU-TVd",
        "outputId": "95c730e1-5509-4055-d8fd-967c1f35d89c"
      },
      "execution_count": null,
      "outputs": [
        {
          "output_type": "stream",
          "name": "stdout",
          "text": [
            "<class 'pandas.core.frame.DataFrame'>\n",
            "RangeIndex: 64461 entries, 0 to 64460\n",
            "Data columns (total 16 columns):\n",
            " #   Column              Non-Null Count  Dtype  \n",
            "---  ------              --------------  -----  \n",
            " 0   Country             64072 non-null  object \n",
            " 1   Age                 45446 non-null  float64\n",
            " 2   Gender              50557 non-null  object \n",
            " 3   EdLevel             57431 non-null  object \n",
            " 4   UndergradMajor      50995 non-null  object \n",
            " 5   Hobbyist            64416 non-null  object \n",
            " 6   Age1stCode          57900 non-null  object \n",
            " 7   YearsCode           57684 non-null  object \n",
            " 8   YearsCodePro        46349 non-null  object \n",
            " 9   Employment          63854 non-null  object \n",
            " 10  DevType             49370 non-null  object \n",
            " 11  NEWLearn            56156 non-null  object \n",
            " 12  NEWPurpleLink       54803 non-null  object \n",
            " 13  NEWJobHuntResearch  41022 non-null  object \n",
            " 14  NEWEdImpt           48465 non-null  object \n",
            " 15  NEWStuck            54983 non-null  object \n",
            "dtypes: float64(1), object(15)\n",
            "memory usage: 7.9+ MB\n"
          ]
        }
      ]
    },
    {
      "cell_type": "markdown",
      "source": [
        "##### Most columns have the data type object, either because they contain values of different types or contain empty values (NaN). It appears that every column contains some empty values since the Non-Null count for every column is lower than the total number of rows (64461). We'll need to deal with empty values and manually adjust the data type for each column on a case-by-case basis.\n",
        "\n",
        "##### Only one of the columns were detected as numeric columns (Age), even though a few other columns have mostly numeric values. To make our analysis easier, let's convert some other columns into numeric data types while ignoring any non-numeric value. The non-numeric are converted to NaN."
      ],
      "metadata": {
        "id": "VlvIi80Q0Asi"
      }
    },
    {
      "cell_type": "code",
      "source": [
        "survey_df['Age1stCode'] = pd.to_numeric(survey_df.Age1stCode, errors='coerce')\n",
        "survey_df['YearsCode'] = pd.to_numeric(survey_df.YearsCode, errors='coerce')\n",
        "survey_df['YearsCodePro'] = pd.to_numeric(survey_df.YearsCodePro, errors='coerce')"
      ],
      "metadata": {
        "id": "s_v5_XA_-WR6"
      },
      "execution_count": null,
      "outputs": []
    },
    {
      "cell_type": "markdown",
      "source": [
        "#### Let's now view some basic statistics about numeric columns."
      ],
      "metadata": {
        "id": "iZfvnoMF0ZbD"
      }
    },
    {
      "cell_type": "code",
      "source": [
        "survey_df.describe()"
      ],
      "metadata": {
        "colab": {
          "base_uri": "https://localhost:8080/",
          "height": 300
        },
        "id": "yaKTMHDT_FE-",
        "outputId": "22d0e319-c573-4751-ead5-9728eac04a89"
      },
      "execution_count": null,
      "outputs": [
        {
          "output_type": "execute_result",
          "data": {
            "text/plain": [
              "                Age    Age1stCode     YearsCode  YearsCodePro\n",
              "count  45446.000000  57473.000000  56784.000000  44133.000000\n",
              "mean      30.834111     15.476572     12.782051      8.869667\n",
              "std        9.585392      5.114081      9.490657      7.759961\n",
              "min        1.000000      5.000000      1.000000      1.000000\n",
              "25%       24.000000     12.000000      6.000000      3.000000\n",
              "50%       29.000000     15.000000     10.000000      6.000000\n",
              "75%       35.000000     18.000000     17.000000     12.000000\n",
              "max      279.000000     85.000000     50.000000     50.000000"
            ],
            "text/html": [
              "\n",
              "  <div id=\"df-98bfb9f0-6a43-406d-b043-83b39ba9b329\">\n",
              "    <div class=\"colab-df-container\">\n",
              "      <div>\n",
              "<style scoped>\n",
              "    .dataframe tbody tr th:only-of-type {\n",
              "        vertical-align: middle;\n",
              "    }\n",
              "\n",
              "    .dataframe tbody tr th {\n",
              "        vertical-align: top;\n",
              "    }\n",
              "\n",
              "    .dataframe thead th {\n",
              "        text-align: right;\n",
              "    }\n",
              "</style>\n",
              "<table border=\"1\" class=\"dataframe\">\n",
              "  <thead>\n",
              "    <tr style=\"text-align: right;\">\n",
              "      <th></th>\n",
              "      <th>Age</th>\n",
              "      <th>Age1stCode</th>\n",
              "      <th>YearsCode</th>\n",
              "      <th>YearsCodePro</th>\n",
              "    </tr>\n",
              "  </thead>\n",
              "  <tbody>\n",
              "    <tr>\n",
              "      <th>count</th>\n",
              "      <td>45446.000000</td>\n",
              "      <td>57473.000000</td>\n",
              "      <td>56784.000000</td>\n",
              "      <td>44133.000000</td>\n",
              "    </tr>\n",
              "    <tr>\n",
              "      <th>mean</th>\n",
              "      <td>30.834111</td>\n",
              "      <td>15.476572</td>\n",
              "      <td>12.782051</td>\n",
              "      <td>8.869667</td>\n",
              "    </tr>\n",
              "    <tr>\n",
              "      <th>std</th>\n",
              "      <td>9.585392</td>\n",
              "      <td>5.114081</td>\n",
              "      <td>9.490657</td>\n",
              "      <td>7.759961</td>\n",
              "    </tr>\n",
              "    <tr>\n",
              "      <th>min</th>\n",
              "      <td>1.000000</td>\n",
              "      <td>5.000000</td>\n",
              "      <td>1.000000</td>\n",
              "      <td>1.000000</td>\n",
              "    </tr>\n",
              "    <tr>\n",
              "      <th>25%</th>\n",
              "      <td>24.000000</td>\n",
              "      <td>12.000000</td>\n",
              "      <td>6.000000</td>\n",
              "      <td>3.000000</td>\n",
              "    </tr>\n",
              "    <tr>\n",
              "      <th>50%</th>\n",
              "      <td>29.000000</td>\n",
              "      <td>15.000000</td>\n",
              "      <td>10.000000</td>\n",
              "      <td>6.000000</td>\n",
              "    </tr>\n",
              "    <tr>\n",
              "      <th>75%</th>\n",
              "      <td>35.000000</td>\n",
              "      <td>18.000000</td>\n",
              "      <td>17.000000</td>\n",
              "      <td>12.000000</td>\n",
              "    </tr>\n",
              "    <tr>\n",
              "      <th>max</th>\n",
              "      <td>279.000000</td>\n",
              "      <td>85.000000</td>\n",
              "      <td>50.000000</td>\n",
              "      <td>50.000000</td>\n",
              "    </tr>\n",
              "  </tbody>\n",
              "</table>\n",
              "</div>\n",
              "      <button class=\"colab-df-convert\" onclick=\"convertToInteractive('df-98bfb9f0-6a43-406d-b043-83b39ba9b329')\"\n",
              "              title=\"Convert this dataframe to an interactive table.\"\n",
              "              style=\"display:none;\">\n",
              "        \n",
              "  <svg xmlns=\"http://www.w3.org/2000/svg\" height=\"24px\"viewBox=\"0 0 24 24\"\n",
              "       width=\"24px\">\n",
              "    <path d=\"M0 0h24v24H0V0z\" fill=\"none\"/>\n",
              "    <path d=\"M18.56 5.44l.94 2.06.94-2.06 2.06-.94-2.06-.94-.94-2.06-.94 2.06-2.06.94zm-11 1L8.5 8.5l.94-2.06 2.06-.94-2.06-.94L8.5 2.5l-.94 2.06-2.06.94zm10 10l.94 2.06.94-2.06 2.06-.94-2.06-.94-.94-2.06-.94 2.06-2.06.94z\"/><path d=\"M17.41 7.96l-1.37-1.37c-.4-.4-.92-.59-1.43-.59-.52 0-1.04.2-1.43.59L10.3 9.45l-7.72 7.72c-.78.78-.78 2.05 0 2.83L4 21.41c.39.39.9.59 1.41.59.51 0 1.02-.2 1.41-.59l7.78-7.78 2.81-2.81c.8-.78.8-2.07 0-2.86zM5.41 20L4 18.59l7.72-7.72 1.47 1.35L5.41 20z\"/>\n",
              "  </svg>\n",
              "      </button>\n",
              "      \n",
              "  <style>\n",
              "    .colab-df-container {\n",
              "      display:flex;\n",
              "      flex-wrap:wrap;\n",
              "      gap: 12px;\n",
              "    }\n",
              "\n",
              "    .colab-df-convert {\n",
              "      background-color: #E8F0FE;\n",
              "      border: none;\n",
              "      border-radius: 50%;\n",
              "      cursor: pointer;\n",
              "      display: none;\n",
              "      fill: #1967D2;\n",
              "      height: 32px;\n",
              "      padding: 0 0 0 0;\n",
              "      width: 32px;\n",
              "    }\n",
              "\n",
              "    .colab-df-convert:hover {\n",
              "      background-color: #E2EBFA;\n",
              "      box-shadow: 0px 1px 2px rgba(60, 64, 67, 0.3), 0px 1px 3px 1px rgba(60, 64, 67, 0.15);\n",
              "      fill: #174EA6;\n",
              "    }\n",
              "\n",
              "    [theme=dark] .colab-df-convert {\n",
              "      background-color: #3B4455;\n",
              "      fill: #D2E3FC;\n",
              "    }\n",
              "\n",
              "    [theme=dark] .colab-df-convert:hover {\n",
              "      background-color: #434B5C;\n",
              "      box-shadow: 0px 1px 3px 1px rgba(0, 0, 0, 0.15);\n",
              "      filter: drop-shadow(0px 1px 2px rgba(0, 0, 0, 0.3));\n",
              "      fill: #FFFFFF;\n",
              "    }\n",
              "  </style>\n",
              "\n",
              "      <script>\n",
              "        const buttonEl =\n",
              "          document.querySelector('#df-98bfb9f0-6a43-406d-b043-83b39ba9b329 button.colab-df-convert');\n",
              "        buttonEl.style.display =\n",
              "          google.colab.kernel.accessAllowed ? 'block' : 'none';\n",
              "\n",
              "        async function convertToInteractive(key) {\n",
              "          const element = document.querySelector('#df-98bfb9f0-6a43-406d-b043-83b39ba9b329');\n",
              "          const dataTable =\n",
              "            await google.colab.kernel.invokeFunction('convertToInteractive',\n",
              "                                                     [key], {});\n",
              "          if (!dataTable) return;\n",
              "\n",
              "          const docLinkHtml = 'Like what you see? Visit the ' +\n",
              "            '<a target=\"_blank\" href=https://colab.research.google.com/notebooks/data_table.ipynb>data table notebook</a>'\n",
              "            + ' to learn more about interactive tables.';\n",
              "          element.innerHTML = '';\n",
              "          dataTable['output_type'] = 'display_data';\n",
              "          await google.colab.output.renderOutput(dataTable, element);\n",
              "          const docLink = document.createElement('div');\n",
              "          docLink.innerHTML = docLinkHtml;\n",
              "          element.appendChild(docLink);\n",
              "        }\n",
              "      </script>\n",
              "    </div>\n",
              "  </div>\n",
              "  "
            ]
          },
          "metadata": {},
          "execution_count": 18
        }
      ]
    },
    {
      "cell_type": "markdown",
      "source": [
        "#### There seems to be a problem with the age column, as the minimum value is 1 and the maximum is 279. This is a common issue with surveys: responses may contain invalid values due to accidental or intentional errors while responding. A simple fix would be to ignore the rows where the age is higher than 100 years or lower than 10 years as invalid survey responses."
      ],
      "metadata": {
        "id": "VVtKeiRf0grC"
      }
    },
    {
      "cell_type": "code",
      "source": [
        "survey_df.drop(survey_df[survey_df.Age < 10].index, inplace=True)\n",
        "survey_df.drop(survey_df[survey_df.Age > 100].index, inplace=True)"
      ],
      "metadata": {
        "id": "6Tvlwh7C_KFx"
      },
      "execution_count": null,
      "outputs": []
    },
    {
      "cell_type": "markdown",
      "source": [
        "#### The gender column also allows for picking multiple options. I removed values containing more than one option to simplify our analysis."
      ],
      "metadata": {
        "id": "b7f5Zjfm1Kc-"
      }
    },
    {
      "cell_type": "code",
      "source": [
        "survey_df['Gender'].value_counts()"
      ],
      "metadata": {
        "colab": {
          "base_uri": "https://localhost:8080/"
        },
        "id": "qkS6cOmj_Snj",
        "outputId": "8f541b1e-6350-47fc-ea1e-b4abb3226458"
      },
      "execution_count": null,
      "outputs": [
        {
          "output_type": "execute_result",
          "data": {
            "text/plain": [
              "Man                                                            46007\n",
              "Woman                                                           3843\n",
              "Non-binary, genderqueer, or gender non-conforming                385\n",
              "Man;Non-binary, genderqueer, or gender non-conforming            121\n",
              "Woman;Non-binary, genderqueer, or gender non-conforming           92\n",
              "Woman;Man                                                         74\n",
              "Woman;Man;Non-binary, genderqueer, or gender non-conforming       26\n",
              "Name: Gender, dtype: int64"
            ]
          },
          "metadata": {},
          "execution_count": 21
        }
      ]
    },
    {
      "cell_type": "code",
      "source": [
        "survey_df.where(~(survey_df.Gender.str.contains(';', na=False)), np.nan, inplace=True)"
      ],
      "metadata": {
        "id": "vnMoIFsd_mSV"
      },
      "execution_count": null,
      "outputs": []
    },
    {
      "cell_type": "markdown",
      "source": [
        "#### We've now cleaned up and prepared the dataset for analysis. Let's take a look at a sample of rows from the data frame."
      ],
      "metadata": {
        "id": "D1KKodtm1R2f"
      }
    },
    {
      "cell_type": "code",
      "source": [
        "survey_df.sample(10)"
      ],
      "metadata": {
        "colab": {
          "base_uri": "https://localhost:8080/",
          "height": 965
        },
        "id": "BfZ6p7l3_plP",
        "outputId": "0ab54532-51a3-4e4c-da2b-a2abf8fa5a43"
      },
      "execution_count": null,
      "outputs": [
        {
          "output_type": "execute_result",
          "data": {
            "text/plain": [
              "             Country   Age Gender  \\\n",
              "21666        Germany  33.0    Man   \n",
              "32355         Brazil   NaN    NaN   \n",
              "3561   United States   NaN    Man   \n",
              "12729         Norway  33.0    Man   \n",
              "41135          Spain   NaN    NaN   \n",
              "61855          India   NaN    NaN   \n",
              "12732           Iran  32.0    Man   \n",
              "61593    Philippines  36.0    Man   \n",
              "62818        Tunisia   NaN    NaN   \n",
              "43093         France  63.0  Woman   \n",
              "\n",
              "                                                 EdLevel  \\\n",
              "21666       Bachelor’s degree (B.A., B.S., B.Eng., etc.)   \n",
              "32355       Bachelor’s degree (B.A., B.S., B.Eng., etc.)   \n",
              "3561        Bachelor’s degree (B.A., B.S., B.Eng., etc.)   \n",
              "12729       Bachelor’s degree (B.A., B.S., B.Eng., etc.)   \n",
              "41135                                                NaN   \n",
              "61855                                                NaN   \n",
              "12732  Some college/university study without earning ...   \n",
              "61593       Bachelor’s degree (B.A., B.S., B.Eng., etc.)   \n",
              "62818    Master’s degree (M.A., M.S., M.Eng., MBA, etc.)   \n",
              "43093         Other doctoral degree (Ph.D., Ed.D., etc.)   \n",
              "\n",
              "                                          UndergradMajor Hobbyist  Age1stCode  \\\n",
              "21666  Computer science, computer engineering, or sof...       No        10.0   \n",
              "32355                      Web development or web design       No        14.0   \n",
              "3561                                                 NaN      Yes        13.0   \n",
              "12729  Computer science, computer engineering, or sof...      Yes        17.0   \n",
              "41135                                                NaN      Yes         NaN   \n",
              "61855                                                NaN       No         NaN   \n",
              "12732  Computer science, computer engineering, or sof...       No        12.0   \n",
              "61593                      Web development or web design       No        20.0   \n",
              "62818                          Mathematics or statistics      Yes         NaN   \n",
              "43093  Computer science, computer engineering, or sof...      Yes        19.0   \n",
              "\n",
              "       YearsCode  YearsCodePro  \\\n",
              "21666       23.0           8.0   \n",
              "32355       10.0           6.0   \n",
              "3561        20.0           NaN   \n",
              "12729       16.0           5.0   \n",
              "41135        NaN           NaN   \n",
              "61855        NaN           NaN   \n",
              "12732        4.0           NaN   \n",
              "61593       10.0           NaN   \n",
              "62818        NaN           NaN   \n",
              "43093       42.0          37.0   \n",
              "\n",
              "                                              Employment  \\\n",
              "21666                                 Employed full-time   \n",
              "32355                                 Employed full-time   \n",
              "3561   Independent contractor, freelancer, or self-em...   \n",
              "12729                                 Employed full-time   \n",
              "41135                                 Employed full-time   \n",
              "61855                                 Employed full-time   \n",
              "12732                                            Student   \n",
              "61593                 Not employed, but looking for work   \n",
              "62818                                            Student   \n",
              "43093                                 Employed full-time   \n",
              "\n",
              "                                                 DevType  \\\n",
              "21666  Developer, back-end;Developer, front-end;Devel...   \n",
              "32355  Designer;Developer, back-end;Developer, deskto...   \n",
              "3561                     Marketing or sales professional   \n",
              "12729            Developer, full-stack;DevOps specialist   \n",
              "41135                                                NaN   \n",
              "61855                                                NaN   \n",
              "12732                                                NaN   \n",
              "61593  Database administrator;Developer, back-end;Dev...   \n",
              "62818                                                NaN   \n",
              "43093                                Academic researcher   \n",
              "\n",
              "                   NEWLearn      NEWPurpleLink  \\\n",
              "21666           Once a year  Hello, old friend   \n",
              "32355           Once a year  Hello, old friend   \n",
              "3561   Once every few years             Amused   \n",
              "12729  Once every few years             Amused   \n",
              "41135           Once a year  Hello, old friend   \n",
              "61855                   NaN                NaN   \n",
              "12732           Once a year  Hello, old friend   \n",
              "61593  Once every few years            Annoyed   \n",
              "62818      Every few months  Hello, old friend   \n",
              "43093  Once every few years        Indifferent   \n",
              "\n",
              "                                      NEWJobHuntResearch  \\\n",
              "21666  Read company media, such as employee blogs or ...   \n",
              "32355  Read company media, such as employee blogs or ...   \n",
              "3561                                                 NaN   \n",
              "12729  Read company media, such as employee blogs or ...   \n",
              "41135                                                NaN   \n",
              "61855                                                NaN   \n",
              "12732                                                NaN   \n",
              "61593  Read company media, such as employee blogs or ...   \n",
              "62818                                                NaN   \n",
              "43093  Read other media like news articles, founder p...   \n",
              "\n",
              "                  NEWEdImpt                                           NEWStuck  \n",
              "21666      Fairly important  Visit Stack Overflow;Watch help / tutorial vid...  \n",
              "32355    Somewhat important  Play games;Call a coworker or friend;Visit Sta...  \n",
              "3561                    NaN       Play games;Do other work and come back later  \n",
              "12729        Very important  Call a coworker or friend;Visit Stack Overflow...  \n",
              "41135                   NaN                               Visit Stack Overflow  \n",
              "61855                   NaN                                                NaN  \n",
              "12732                   NaN                               Visit Stack Overflow  \n",
              "61593      Fairly important  Call a coworker or friend;Visit Stack Overflow...  \n",
              "62818                   NaN                               Visit Stack Overflow  \n",
              "43093  Critically important                          Call a coworker or friend  "
            ],
            "text/html": [
              "\n",
              "  <div id=\"df-77c5fffa-6008-4c65-b3d6-a3be351fb5bd\">\n",
              "    <div class=\"colab-df-container\">\n",
              "      <div>\n",
              "<style scoped>\n",
              "    .dataframe tbody tr th:only-of-type {\n",
              "        vertical-align: middle;\n",
              "    }\n",
              "\n",
              "    .dataframe tbody tr th {\n",
              "        vertical-align: top;\n",
              "    }\n",
              "\n",
              "    .dataframe thead th {\n",
              "        text-align: right;\n",
              "    }\n",
              "</style>\n",
              "<table border=\"1\" class=\"dataframe\">\n",
              "  <thead>\n",
              "    <tr style=\"text-align: right;\">\n",
              "      <th></th>\n",
              "      <th>Country</th>\n",
              "      <th>Age</th>\n",
              "      <th>Gender</th>\n",
              "      <th>EdLevel</th>\n",
              "      <th>UndergradMajor</th>\n",
              "      <th>Hobbyist</th>\n",
              "      <th>Age1stCode</th>\n",
              "      <th>YearsCode</th>\n",
              "      <th>YearsCodePro</th>\n",
              "      <th>Employment</th>\n",
              "      <th>DevType</th>\n",
              "      <th>NEWLearn</th>\n",
              "      <th>NEWPurpleLink</th>\n",
              "      <th>NEWJobHuntResearch</th>\n",
              "      <th>NEWEdImpt</th>\n",
              "      <th>NEWStuck</th>\n",
              "    </tr>\n",
              "  </thead>\n",
              "  <tbody>\n",
              "    <tr>\n",
              "      <th>21666</th>\n",
              "      <td>Germany</td>\n",
              "      <td>33.0</td>\n",
              "      <td>Man</td>\n",
              "      <td>Bachelor’s degree (B.A., B.S., B.Eng., etc.)</td>\n",
              "      <td>Computer science, computer engineering, or sof...</td>\n",
              "      <td>No</td>\n",
              "      <td>10.0</td>\n",
              "      <td>23.0</td>\n",
              "      <td>8.0</td>\n",
              "      <td>Employed full-time</td>\n",
              "      <td>Developer, back-end;Developer, front-end;Devel...</td>\n",
              "      <td>Once a year</td>\n",
              "      <td>Hello, old friend</td>\n",
              "      <td>Read company media, such as employee blogs or ...</td>\n",
              "      <td>Fairly important</td>\n",
              "      <td>Visit Stack Overflow;Watch help / tutorial vid...</td>\n",
              "    </tr>\n",
              "    <tr>\n",
              "      <th>32355</th>\n",
              "      <td>Brazil</td>\n",
              "      <td>NaN</td>\n",
              "      <td>NaN</td>\n",
              "      <td>Bachelor’s degree (B.A., B.S., B.Eng., etc.)</td>\n",
              "      <td>Web development or web design</td>\n",
              "      <td>No</td>\n",
              "      <td>14.0</td>\n",
              "      <td>10.0</td>\n",
              "      <td>6.0</td>\n",
              "      <td>Employed full-time</td>\n",
              "      <td>Designer;Developer, back-end;Developer, deskto...</td>\n",
              "      <td>Once a year</td>\n",
              "      <td>Hello, old friend</td>\n",
              "      <td>Read company media, such as employee blogs or ...</td>\n",
              "      <td>Somewhat important</td>\n",
              "      <td>Play games;Call a coworker or friend;Visit Sta...</td>\n",
              "    </tr>\n",
              "    <tr>\n",
              "      <th>3561</th>\n",
              "      <td>United States</td>\n",
              "      <td>NaN</td>\n",
              "      <td>Man</td>\n",
              "      <td>Bachelor’s degree (B.A., B.S., B.Eng., etc.)</td>\n",
              "      <td>NaN</td>\n",
              "      <td>Yes</td>\n",
              "      <td>13.0</td>\n",
              "      <td>20.0</td>\n",
              "      <td>NaN</td>\n",
              "      <td>Independent contractor, freelancer, or self-em...</td>\n",
              "      <td>Marketing or sales professional</td>\n",
              "      <td>Once every few years</td>\n",
              "      <td>Amused</td>\n",
              "      <td>NaN</td>\n",
              "      <td>NaN</td>\n",
              "      <td>Play games;Do other work and come back later</td>\n",
              "    </tr>\n",
              "    <tr>\n",
              "      <th>12729</th>\n",
              "      <td>Norway</td>\n",
              "      <td>33.0</td>\n",
              "      <td>Man</td>\n",
              "      <td>Bachelor’s degree (B.A., B.S., B.Eng., etc.)</td>\n",
              "      <td>Computer science, computer engineering, or sof...</td>\n",
              "      <td>Yes</td>\n",
              "      <td>17.0</td>\n",
              "      <td>16.0</td>\n",
              "      <td>5.0</td>\n",
              "      <td>Employed full-time</td>\n",
              "      <td>Developer, full-stack;DevOps specialist</td>\n",
              "      <td>Once every few years</td>\n",
              "      <td>Amused</td>\n",
              "      <td>Read company media, such as employee blogs or ...</td>\n",
              "      <td>Very important</td>\n",
              "      <td>Call a coworker or friend;Visit Stack Overflow...</td>\n",
              "    </tr>\n",
              "    <tr>\n",
              "      <th>41135</th>\n",
              "      <td>Spain</td>\n",
              "      <td>NaN</td>\n",
              "      <td>NaN</td>\n",
              "      <td>NaN</td>\n",
              "      <td>NaN</td>\n",
              "      <td>Yes</td>\n",
              "      <td>NaN</td>\n",
              "      <td>NaN</td>\n",
              "      <td>NaN</td>\n",
              "      <td>Employed full-time</td>\n",
              "      <td>NaN</td>\n",
              "      <td>Once a year</td>\n",
              "      <td>Hello, old friend</td>\n",
              "      <td>NaN</td>\n",
              "      <td>NaN</td>\n",
              "      <td>Visit Stack Overflow</td>\n",
              "    </tr>\n",
              "    <tr>\n",
              "      <th>61855</th>\n",
              "      <td>India</td>\n",
              "      <td>NaN</td>\n",
              "      <td>NaN</td>\n",
              "      <td>NaN</td>\n",
              "      <td>NaN</td>\n",
              "      <td>No</td>\n",
              "      <td>NaN</td>\n",
              "      <td>NaN</td>\n",
              "      <td>NaN</td>\n",
              "      <td>Employed full-time</td>\n",
              "      <td>NaN</td>\n",
              "      <td>NaN</td>\n",
              "      <td>NaN</td>\n",
              "      <td>NaN</td>\n",
              "      <td>NaN</td>\n",
              "      <td>NaN</td>\n",
              "    </tr>\n",
              "    <tr>\n",
              "      <th>12732</th>\n",
              "      <td>Iran</td>\n",
              "      <td>32.0</td>\n",
              "      <td>Man</td>\n",
              "      <td>Some college/university study without earning ...</td>\n",
              "      <td>Computer science, computer engineering, or sof...</td>\n",
              "      <td>No</td>\n",
              "      <td>12.0</td>\n",
              "      <td>4.0</td>\n",
              "      <td>NaN</td>\n",
              "      <td>Student</td>\n",
              "      <td>NaN</td>\n",
              "      <td>Once a year</td>\n",
              "      <td>Hello, old friend</td>\n",
              "      <td>NaN</td>\n",
              "      <td>NaN</td>\n",
              "      <td>Visit Stack Overflow</td>\n",
              "    </tr>\n",
              "    <tr>\n",
              "      <th>61593</th>\n",
              "      <td>Philippines</td>\n",
              "      <td>36.0</td>\n",
              "      <td>Man</td>\n",
              "      <td>Bachelor’s degree (B.A., B.S., B.Eng., etc.)</td>\n",
              "      <td>Web development or web design</td>\n",
              "      <td>No</td>\n",
              "      <td>20.0</td>\n",
              "      <td>10.0</td>\n",
              "      <td>NaN</td>\n",
              "      <td>Not employed, but looking for work</td>\n",
              "      <td>Database administrator;Developer, back-end;Dev...</td>\n",
              "      <td>Once every few years</td>\n",
              "      <td>Annoyed</td>\n",
              "      <td>Read company media, such as employee blogs or ...</td>\n",
              "      <td>Fairly important</td>\n",
              "      <td>Call a coworker or friend;Visit Stack Overflow...</td>\n",
              "    </tr>\n",
              "    <tr>\n",
              "      <th>62818</th>\n",
              "      <td>Tunisia</td>\n",
              "      <td>NaN</td>\n",
              "      <td>NaN</td>\n",
              "      <td>Master’s degree (M.A., M.S., M.Eng., MBA, etc.)</td>\n",
              "      <td>Mathematics or statistics</td>\n",
              "      <td>Yes</td>\n",
              "      <td>NaN</td>\n",
              "      <td>NaN</td>\n",
              "      <td>NaN</td>\n",
              "      <td>Student</td>\n",
              "      <td>NaN</td>\n",
              "      <td>Every few months</td>\n",
              "      <td>Hello, old friend</td>\n",
              "      <td>NaN</td>\n",
              "      <td>NaN</td>\n",
              "      <td>Visit Stack Overflow</td>\n",
              "    </tr>\n",
              "    <tr>\n",
              "      <th>43093</th>\n",
              "      <td>France</td>\n",
              "      <td>63.0</td>\n",
              "      <td>Woman</td>\n",
              "      <td>Other doctoral degree (Ph.D., Ed.D., etc.)</td>\n",
              "      <td>Computer science, computer engineering, or sof...</td>\n",
              "      <td>Yes</td>\n",
              "      <td>19.0</td>\n",
              "      <td>42.0</td>\n",
              "      <td>37.0</td>\n",
              "      <td>Employed full-time</td>\n",
              "      <td>Academic researcher</td>\n",
              "      <td>Once every few years</td>\n",
              "      <td>Indifferent</td>\n",
              "      <td>Read other media like news articles, founder p...</td>\n",
              "      <td>Critically important</td>\n",
              "      <td>Call a coworker or friend</td>\n",
              "    </tr>\n",
              "  </tbody>\n",
              "</table>\n",
              "</div>\n",
              "      <button class=\"colab-df-convert\" onclick=\"convertToInteractive('df-77c5fffa-6008-4c65-b3d6-a3be351fb5bd')\"\n",
              "              title=\"Convert this dataframe to an interactive table.\"\n",
              "              style=\"display:none;\">\n",
              "        \n",
              "  <svg xmlns=\"http://www.w3.org/2000/svg\" height=\"24px\"viewBox=\"0 0 24 24\"\n",
              "       width=\"24px\">\n",
              "    <path d=\"M0 0h24v24H0V0z\" fill=\"none\"/>\n",
              "    <path d=\"M18.56 5.44l.94 2.06.94-2.06 2.06-.94-2.06-.94-.94-2.06-.94 2.06-2.06.94zm-11 1L8.5 8.5l.94-2.06 2.06-.94-2.06-.94L8.5 2.5l-.94 2.06-2.06.94zm10 10l.94 2.06.94-2.06 2.06-.94-2.06-.94-.94-2.06-.94 2.06-2.06.94z\"/><path d=\"M17.41 7.96l-1.37-1.37c-.4-.4-.92-.59-1.43-.59-.52 0-1.04.2-1.43.59L10.3 9.45l-7.72 7.72c-.78.78-.78 2.05 0 2.83L4 21.41c.39.39.9.59 1.41.59.51 0 1.02-.2 1.41-.59l7.78-7.78 2.81-2.81c.8-.78.8-2.07 0-2.86zM5.41 20L4 18.59l7.72-7.72 1.47 1.35L5.41 20z\"/>\n",
              "  </svg>\n",
              "      </button>\n",
              "      \n",
              "  <style>\n",
              "    .colab-df-container {\n",
              "      display:flex;\n",
              "      flex-wrap:wrap;\n",
              "      gap: 12px;\n",
              "    }\n",
              "\n",
              "    .colab-df-convert {\n",
              "      background-color: #E8F0FE;\n",
              "      border: none;\n",
              "      border-radius: 50%;\n",
              "      cursor: pointer;\n",
              "      display: none;\n",
              "      fill: #1967D2;\n",
              "      height: 32px;\n",
              "      padding: 0 0 0 0;\n",
              "      width: 32px;\n",
              "    }\n",
              "\n",
              "    .colab-df-convert:hover {\n",
              "      background-color: #E2EBFA;\n",
              "      box-shadow: 0px 1px 2px rgba(60, 64, 67, 0.3), 0px 1px 3px 1px rgba(60, 64, 67, 0.15);\n",
              "      fill: #174EA6;\n",
              "    }\n",
              "\n",
              "    [theme=dark] .colab-df-convert {\n",
              "      background-color: #3B4455;\n",
              "      fill: #D2E3FC;\n",
              "    }\n",
              "\n",
              "    [theme=dark] .colab-df-convert:hover {\n",
              "      background-color: #434B5C;\n",
              "      box-shadow: 0px 1px 3px 1px rgba(0, 0, 0, 0.15);\n",
              "      filter: drop-shadow(0px 1px 2px rgba(0, 0, 0, 0.3));\n",
              "      fill: #FFFFFF;\n",
              "    }\n",
              "  </style>\n",
              "\n",
              "      <script>\n",
              "        const buttonEl =\n",
              "          document.querySelector('#df-77c5fffa-6008-4c65-b3d6-a3be351fb5bd button.colab-df-convert');\n",
              "        buttonEl.style.display =\n",
              "          google.colab.kernel.accessAllowed ? 'block' : 'none';\n",
              "\n",
              "        async function convertToInteractive(key) {\n",
              "          const element = document.querySelector('#df-77c5fffa-6008-4c65-b3d6-a3be351fb5bd');\n",
              "          const dataTable =\n",
              "            await google.colab.kernel.invokeFunction('convertToInteractive',\n",
              "                                                     [key], {});\n",
              "          if (!dataTable) return;\n",
              "\n",
              "          const docLinkHtml = 'Like what you see? Visit the ' +\n",
              "            '<a target=\"_blank\" href=https://colab.research.google.com/notebooks/data_table.ipynb>data table notebook</a>'\n",
              "            + ' to learn more about interactive tables.';\n",
              "          element.innerHTML = '';\n",
              "          dataTable['output_type'] = 'display_data';\n",
              "          await google.colab.output.renderOutput(dataTable, element);\n",
              "          const docLink = document.createElement('div');\n",
              "          docLink.innerHTML = docLinkHtml;\n",
              "          element.appendChild(docLink);\n",
              "        }\n",
              "      </script>\n",
              "    </div>\n",
              "  </div>\n",
              "  "
            ]
          },
          "metadata": {},
          "execution_count": 23
        }
      ]
    },
    {
      "cell_type": "markdown",
      "source": [
        "#### Exploratory Analysis and Visualization\n",
        "######Before we ask questions about the survey responses, it would help to understand the respondents' demographics, i.e., country, age, gender, education level, employment level, etc. It's essential to explore these variables to understand how representative the survey is of the worldwide programming community."
      ],
      "metadata": {
        "id": "p32-biIC1fng"
      }
    },
    {
      "cell_type": "markdown",
      "source": [
        "## Country"
      ],
      "metadata": {
        "id": "8IUZ9_TZ1oI1"
      }
    },
    {
      "cell_type": "code",
      "source": [
        "schema.Country"
      ],
      "metadata": {
        "colab": {
          "base_uri": "https://localhost:8080/",
          "height": 36
        },
        "id": "SCayDtKai9uj",
        "outputId": "7f27bf8c-4ca1-49e6-f5e4-411fcd4114d2"
      },
      "execution_count": null,
      "outputs": [
        {
          "output_type": "execute_result",
          "data": {
            "text/plain": [
              "'Where do you live?'"
            ],
            "application/vnd.google.colaboratory.intrinsic+json": {
              "type": "string"
            }
          },
          "metadata": {},
          "execution_count": 24
        }
      ]
    },
    {
      "cell_type": "code",
      "source": [
        "survey_df.Country.nunique()"
      ],
      "metadata": {
        "colab": {
          "base_uri": "https://localhost:8080/"
        },
        "id": "7ty_js2PjCVp",
        "outputId": "e04fe541-823f-4df0-f0a1-7470ae6ae8f1"
      },
      "execution_count": null,
      "outputs": [
        {
          "output_type": "execute_result",
          "data": {
            "text/plain": [
              "183"
            ]
          },
          "metadata": {},
          "execution_count": 25
        }
      ]
    },
    {
      "cell_type": "code",
      "source": [
        "top_countries = survey_df.Country.value_counts().head(15)\n",
        "top_countries"
      ],
      "metadata": {
        "colab": {
          "base_uri": "https://localhost:8080/"
        },
        "id": "qWYh_2P7jFJN",
        "outputId": "1a635c44-9c61-406d-d359-953eb53f6701"
      },
      "execution_count": null,
      "outputs": [
        {
          "output_type": "execute_result",
          "data": {
            "text/plain": [
              "United States         12371\n",
              "India                  8371\n",
              "United Kingdom         3883\n",
              "Germany                3875\n",
              "Canada                 2177\n",
              "France                 1889\n",
              "Brazil                 1811\n",
              "Netherlands            1333\n",
              "Poland                 1274\n",
              "Australia              1199\n",
              "Spain                  1158\n",
              "Italy                  1117\n",
              "Russian Federation     1086\n",
              "Sweden                  881\n",
              "Pakistan                803\n",
              "Name: Country, dtype: int64"
            ]
          },
          "metadata": {},
          "execution_count": 26
        }
      ]
    },
    {
      "cell_type": "code",
      "source": [
        "plt.figure(figsize=(12,6))\n",
        "plt.xticks(rotation=75)\n",
        "plt.title(schema.Country)\n",
        "sns.barplot(x=top_countries.index, y=top_countries);"
      ],
      "metadata": {
        "colab": {
          "base_uri": "https://localhost:8080/",
          "height": 517
        },
        "id": "ocaUUxSVjIi6",
        "outputId": "928979ce-88c8-41f7-89bf-97b6568c9ae6"
      },
      "execution_count": null,
      "outputs": [
        {
          "output_type": "display_data",
          "data": {
            "text/plain": [
              "<Figure size 864x432 with 1 Axes>"
            ],
            "image/png": "[encoded data removed]"
          },
          "metadata": {
            "needs_background": "light"
          }
        }
      ]
    },
    {
      "cell_type": "markdown",
      "source": [
        "######It appears that a disproportionately high number of respondents are from the US and India, probably because the survey is in English, and these countries have the highest English-speaking populations. We can already see that the survey may not be representative of the global programming community - especially from non-English speaking countries. Programmers from non-English speaking countries are almost certainly underrepresented.\n"
      ],
      "metadata": {
        "id": "rqXhREBq1yVn"
      }
    },
    {
      "cell_type": "markdown",
      "source": [
        "## Age"
      ],
      "metadata": {
        "id": "Xt23xSlz2QHo"
      }
    },
    {
      "cell_type": "code",
      "source": [
        "plt.figure(figsize=(12, 6))\n",
        "plt.title(schema.Age)\n",
        "plt.xlabel('Age')\n",
        "plt.ylabel('Number of respondents')\n",
        "\n",
        "plt.hist(survey_df.Age, bins=np.arange(10,80,5), color='purple');"
      ],
      "metadata": {
        "colab": {
          "base_uri": "https://localhost:8080/",
          "height": 416
        },
        "id": "qVcqKrbd2TPV",
        "outputId": "38073a83-4bf0-46bd-d7a3-b50428fd685a"
      },
      "execution_count": null,
      "outputs": [
        {
          "output_type": "display_data",
          "data": {
            "text/plain": [
              "<Figure size 864x432 with 1 Axes>"
            ],
            "image/png": "[encoded data removed]"
          },
          "metadata": {
            "needs_background": "light"
          }
        }
      ]
    },
    {
      "cell_type": "markdown",
      "source": [
        "#### It appears that a large percentage of respondents are 20-45 years old. It's somewhat representative of the programming community in general. Many young people have taken up computer science as their field of study or profession in the last 20 years.\n",
        "\n"
      ],
      "metadata": {
        "id": "J0pHr4bG2Y1S"
      }
    },
    {
      "cell_type": "markdown",
      "source": [
        "## Gender"
      ],
      "metadata": {
        "id": "kctwjR7e1-rB"
      }
    },
    {
      "cell_type": "code",
      "source": [
        "schema.Gender"
      ],
      "metadata": {
        "colab": {
          "base_uri": "https://localhost:8080/",
          "height": 36
        },
        "id": "iBZCNJacjMj7",
        "outputId": "c64f28fd-e1bd-4836-dd63-5a94a84df559"
      },
      "execution_count": null,
      "outputs": [
        {
          "output_type": "execute_result",
          "data": {
            "text/plain": [
              "'Which of the following describe you, if any? Please check all that apply. If you prefer not to answer, you may leave this question blank.'"
            ],
            "application/vnd.google.colaboratory.intrinsic+json": {
              "type": "string"
            }
          },
          "metadata": {},
          "execution_count": 28
        }
      ]
    },
    {
      "cell_type": "code",
      "source": [
        "gender_counts = survey_df.Gender.value_counts()\n",
        "gender_counts"
      ],
      "metadata": {
        "colab": {
          "base_uri": "https://localhost:8080/"
        },
        "id": "ovTwqPIDqYQw",
        "outputId": "b122fb74-98c3-428b-84eb-ceaf8f343663"
      },
      "execution_count": null,
      "outputs": [
        {
          "output_type": "execute_result",
          "data": {
            "text/plain": [
              "Man                                                  46007\n",
              "Woman                                                 3843\n",
              "Non-binary, genderqueer, or gender non-conforming      385\n",
              "Name: Gender, dtype: int64"
            ]
          },
          "metadata": {},
          "execution_count": 29
        }
      ]
    },
    {
      "cell_type": "code",
      "source": [
        "plt.figure(figsize=(12,6))\n",
        "plt.title(schema.Gender)\n",
        "plt.pie(gender_counts, labels=gender_counts.index, autopct='%1.1f%%', startangle=180);"
      ],
      "metadata": {
        "colab": {
          "base_uri": "https://localhost:8080/",
          "height": 377
        },
        "id": "92vM72kfqad1",
        "outputId": "d95ce691-e31a-46d8-f5cf-bea9653fe1db"
      },
      "execution_count": null,
      "outputs": [
        {
          "output_type": "display_data",
          "data": {
            "text/plain": [
              "<Figure size 864x432 with 1 Axes>"
            ],
            "image/png": "[encoded data removed]"
          },
          "metadata": {}
        }
      ]
    },
    {
      "cell_type": "markdown",
      "source": [
        "#### Only about 8% of survey respondents who have answered the question identify as women or non-binary. This number is lower than the overall percentage of women & non-binary genders in the programming community - which is estimated to be around 12%."
      ],
      "metadata": {
        "id": "wnQP3z9P2E5U"
      }
    },
    {
      "cell_type": "code",
      "source": [
        "sns.countplot(y=survey_df.EdLevel)\n",
        "plt.xticks(rotation=75);\n",
        "plt.title(schema['EdLevel'])\n",
        "plt.ylabel(None);"
      ],
      "metadata": {
        "id": "0o__8ClwqcmO"
      },
      "execution_count": null,
      "outputs": []
    },
    {
      "cell_type": "code",
      "source": [
        "undergrad_pct = survey_df.UndergradMajor.value_counts() * 100 / survey_df.UndergradMajor.count()\n",
        "\n",
        "sns.barplot(x=undergrad_pct, y=undergrad_pct.index)\n",
        "\n",
        "plt.title(schema.UndergradMajor)\n",
        "plt.ylabel(None);\n",
        "plt.xlabel('Percentage');"
      ],
      "metadata": {
        "id": "HIxKbYgkqgMc"
      },
      "execution_count": null,
      "outputs": []
    },
    {
      "cell_type": "code",
      "source": [
        "(survey_df.Employment.value_counts(normalize=True, ascending=True)*100).plot(kind='barh', color='g')\n",
        "plt.title(schema.Employment)\n",
        "plt.xlabel('Percentage');"
      ],
      "metadata": {
        "id": "hyjjHG71qkeF"
      },
      "execution_count": null,
      "outputs": []
    },
    {
      "cell_type": "markdown",
      "source": [
        "### Dev Type\n",
        "##### The `DevType` field contains information about the roles held by respondents. Since the question allows multiple answers, the column contains lists of values separated by a semi-colon `;`, making it a bit harder to analyze directly."
      ],
      "metadata": {
        "id": "gU0zmdyQ21-y"
      }
    },
    {
      "cell_type": "code",
      "source": [
        "schema.DevType"
      ],
      "metadata": {
        "colab": {
          "base_uri": "https://localhost:8080/",
          "height": 36
        },
        "id": "VC9G0QD73C_l",
        "outputId": "c2fbff79-5c13-49ec-f09b-0fa86d87b791"
      },
      "execution_count": null,
      "outputs": [
        {
          "output_type": "execute_result",
          "data": {
            "text/plain": [
              "'Which of the following describe you? Please select all that apply.'"
            ],
            "application/vnd.google.colaboratory.intrinsic+json": {
              "type": "string"
            }
          },
          "metadata": {},
          "execution_count": 32
        }
      ]
    },
    {
      "cell_type": "code",
      "source": [
        "survey_df.DevType.value_counts()"
      ],
      "metadata": {
        "colab": {
          "base_uri": "https://localhost:8080/"
        },
        "id": "jafe7Nmy3GrZ",
        "outputId": "70ff941c-fd6b-47ce-ce2b-832bbf1b051f"
      },
      "execution_count": null,
      "outputs": [
        {
          "output_type": "execute_result",
          "data": {
            "text/plain": [
              "Developer, full-stack                                                                                                                                                                              4403\n",
              "Developer, back-end                                                                                                                                                                                3069\n",
              "Developer, back-end;Developer, front-end;Developer, full-stack                                                                                                                                     2219\n",
              "Developer, back-end;Developer, full-stack                                                                                                                                                          1468\n",
              "Developer, front-end                                                                                                                                                                               1395\n",
              "                                                                                                                                                                                                   ... \n",
              "Database administrator;Developer, back-end;Developer, desktop or enterprise applications;Developer, QA or test;DevOps specialist;Engineer, data;Engineer, site reliability;System administrator       1\n",
              "Designer;Developer, embedded applications or devices;Developer, full-stack;Developer, mobile;DevOps specialist;Engineer, data;Engineering manager;Product manager                                     1\n",
              "Academic researcher;Developer, back-end;Developer, embedded applications or devices;Engineer, data                                                                                                    1\n",
              "Developer, back-end;Developer, desktop or enterprise applications;Educator;Engineering manager                                                                                                        1\n",
              "Data or business analyst;Developer, mobile;Senior executive/VP;System administrator                                                                                                                   1\n",
              "Name: DevType, Length: 8226, dtype: int64"
            ]
          },
          "metadata": {},
          "execution_count": 33
        }
      ]
    },
    {
      "cell_type": "markdown",
      "source": [
        "##### Let's define a helper function that turns a column containing lists of values into a data frame with one column for each possible option"
      ],
      "metadata": {
        "id": "mXzcO2M23NNj"
      }
    },
    {
      "cell_type": "code",
      "source": [
        "def split_multicolumn(col_series):\n",
        "    result_df = col_series.to_frame()\n",
        "    options = []\n",
        "    # Iterate over the column\n",
        "    for idx, value  in col_series[col_series.notnull()].iteritems():\n",
        "        # Break each value into list of options\n",
        "        for option in value.split(';'):\n",
        "            # Add the option as a column to result\n",
        "            if not option in result_df.columns:\n",
        "                options.append(option)\n",
        "                result_df[option] = False\n",
        "            # Mark the value in the option column as True\n",
        "            result_df.at[idx, option] = True\n",
        "    return result_df[options]"
      ],
      "metadata": {
        "id": "FGevhzSkqnhp"
      },
      "execution_count": null,
      "outputs": []
    },
    {
      "cell_type": "code",
      "source": [
        "dev_type_df = split_multicolumn(survey_df.DevType)"
      ],
      "metadata": {
        "id": "BMswOlROqxwO"
      },
      "execution_count": null,
      "outputs": []
    },
    {
      "cell_type": "code",
      "source": [
        "dev_type_df"
      ],
      "metadata": {
        "colab": {
          "base_uri": "https://localhost:8080/",
          "height": 557
        },
        "id": "D-tupgMmq0iN",
        "outputId": "808ebcb0-831f-401b-e29f-70a14d33732a"
      },
      "execution_count": null,
      "outputs": [
        {
          "output_type": "execute_result",
          "data": {
            "text/plain": [
              "       Developer, desktop or enterprise applications  Developer, full-stack  \\\n",
              "0                                               True                   True   \n",
              "1                                              False                   True   \n",
              "2                                              False                  False   \n",
              "3                                              False                  False   \n",
              "4                                              False                  False   \n",
              "...                                              ...                    ...   \n",
              "64456                                          False                  False   \n",
              "64457                                          False                  False   \n",
              "64458                                          False                  False   \n",
              "64459                                          False                  False   \n",
              "64460                                          False                  False   \n",
              "\n",
              "       Developer, mobile  Designer  Developer, front-end  Developer, back-end  \\\n",
              "0                  False     False                 False                False   \n",
              "1                   True     False                 False                False   \n",
              "2                  False     False                 False                False   \n",
              "3                  False     False                 False                False   \n",
              "4                  False     False                 False                False   \n",
              "...                  ...       ...                   ...                  ...   \n",
              "64456              False     False                 False                False   \n",
              "64457              False     False                 False                False   \n",
              "64458              False     False                 False                False   \n",
              "64459              False     False                 False                False   \n",
              "64460              False     False                 False                False   \n",
              "\n",
              "       Developer, QA or test  DevOps specialist  Developer, game or graphics  \\\n",
              "0                      False              False                        False   \n",
              "1                      False              False                        False   \n",
              "2                      False              False                        False   \n",
              "3                      False              False                        False   \n",
              "4                      False              False                        False   \n",
              "...                      ...                ...                          ...   \n",
              "64456                  False              False                        False   \n",
              "64457                  False              False                        False   \n",
              "64458                  False              False                        False   \n",
              "64459                  False              False                        False   \n",
              "64460                  False              False                        False   \n",
              "\n",
              "       Database administrator  ...  System administrator  Engineering manager  \\\n",
              "0                       False  ...                 False                False   \n",
              "1                       False  ...                 False                False   \n",
              "2                       False  ...                 False                False   \n",
              "3                       False  ...                 False                False   \n",
              "4                       False  ...                 False                False   \n",
              "...                       ...  ...                   ...                  ...   \n",
              "64456                   False  ...                 False                False   \n",
              "64457                   False  ...                 False                False   \n",
              "64458                   False  ...                 False                False   \n",
              "64459                   False  ...                 False                False   \n",
              "64460                   False  ...                 False                False   \n",
              "\n",
              "       Product manager  Data or business analyst  Academic researcher  \\\n",
              "0                False                     False                False   \n",
              "1                False                     False                False   \n",
              "2                False                     False                False   \n",
              "3                False                     False                False   \n",
              "4                False                     False                False   \n",
              "...                ...                       ...                  ...   \n",
              "64456            False                     False                False   \n",
              "64457            False                     False                False   \n",
              "64458            False                     False                False   \n",
              "64459            False                     False                False   \n",
              "64460            False                     False                False   \n",
              "\n",
              "       Data scientist or machine learning specialist  Scientist  \\\n",
              "0                                              False      False   \n",
              "1                                              False      False   \n",
              "2                                              False      False   \n",
              "3                                              False      False   \n",
              "4                                              False      False   \n",
              "...                                              ...        ...   \n",
              "64456                                          False      False   \n",
              "64457                                          False      False   \n",
              "64458                                          False      False   \n",
              "64459                                          False      False   \n",
              "64460                                          False      False   \n",
              "\n",
              "       Senior executive/VP  Engineer, site reliability  \\\n",
              "0                    False                       False   \n",
              "1                    False                       False   \n",
              "2                    False                       False   \n",
              "3                    False                       False   \n",
              "4                    False                       False   \n",
              "...                    ...                         ...   \n",
              "64456                 True                       False   \n",
              "64457                False                       False   \n",
              "64458                False                       False   \n",
              "64459                False                       False   \n",
              "64460                False                       False   \n",
              "\n",
              "       Marketing or sales professional  \n",
              "0                                False  \n",
              "1                                False  \n",
              "2                                False  \n",
              "3                                False  \n",
              "4                                False  \n",
              "...                                ...  \n",
              "64456                            False  \n",
              "64457                            False  \n",
              "64458                            False  \n",
              "64459                            False  \n",
              "64460                            False  \n",
              "\n",
              "[64451 rows x 23 columns]"
            ],
            "text/html": [
              "\n",
              "  <div id=\"df-fe523460-49c6-4d5f-83b2-30d35004d28b\">\n",
              "    <div class=\"colab-df-container\">\n",
              "      <div>\n",
              "<style scoped>\n",
              "    .dataframe tbody tr th:only-of-type {\n",
              "        vertical-align: middle;\n",
              "    }\n",
              "\n",
              "    .dataframe tbody tr th {\n",
              "        vertical-align: top;\n",
              "    }\n",
              "\n",
              "    .dataframe thead th {\n",
              "        text-align: right;\n",
              "    }\n",
              "</style>\n",
              "<table border=\"1\" class=\"dataframe\">\n",
              "  <thead>\n",
              "    <tr style=\"text-align: right;\">\n",
              "      <th></th>\n",
              "      <th>Developer, desktop or enterprise applications</th>\n",
              "      <th>Developer, full-stack</th>\n",
              "      <th>Developer, mobile</th>\n",
              "      <th>Designer</th>\n",
              "      <th>Developer, front-end</th>\n",
              "      <th>Developer, back-end</th>\n",
              "      <th>Developer, QA or test</th>\n",
              "      <th>DevOps specialist</th>\n",
              "      <th>Developer, game or graphics</th>\n",
              "      <th>Database administrator</th>\n",
              "      <th>...</th>\n",
              "      <th>System administrator</th>\n",
              "      <th>Engineering manager</th>\n",
              "      <th>Product manager</th>\n",
              "      <th>Data or business analyst</th>\n",
              "      <th>Academic researcher</th>\n",
              "      <th>Data scientist or machine learning specialist</th>\n",
              "      <th>Scientist</th>\n",
              "      <th>Senior executive/VP</th>\n",
              "      <th>Engineer, site reliability</th>\n",
              "      <th>Marketing or sales professional</th>\n",
              "    </tr>\n",
              "  </thead>\n",
              "  <tbody>\n",
              "    <tr>\n",
              "      <th>0</th>\n",
              "      <td>True</td>\n",
              "      <td>True</td>\n",
              "      <td>False</td>\n",
              "      <td>False</td>\n",
              "      <td>False</td>\n",
              "      <td>False</td>\n",
              "      <td>False</td>\n",
              "      <td>False</td>\n",
              "      <td>False</td>\n",
              "      <td>False</td>\n",
              "      <td>...</td>\n",
              "      <td>False</td>\n",
              "      <td>False</td>\n",
              "      <td>False</td>\n",
              "      <td>False</td>\n",
              "      <td>False</td>\n",
              "      <td>False</td>\n",
              "      <td>False</td>\n",
              "      <td>False</td>\n",
              "      <td>False</td>\n",
              "      <td>False</td>\n",
              "    </tr>\n",
              "    <tr>\n",
              "      <th>1</th>\n",
              "      <td>False</td>\n",
              "      <td>True</td>\n",
              "      <td>True</td>\n",
              "      <td>False</td>\n",
              "      <td>False</td>\n",
              "      <td>False</td>\n",
              "      <td>False</td>\n",
              "      <td>False</td>\n",
              "      <td>False</td>\n",
              "      <td>False</td>\n",
              "      <td>...</td>\n",
              "      <td>False</td>\n",
              "      <td>False</td>\n",
              "      <td>False</td>\n",
              "      <td>False</td>\n",
              "      <td>False</td>\n",
              "      <td>False</td>\n",
              "      <td>False</td>\n",
              "      <td>False</td>\n",
              "      <td>False</td>\n",
              "      <td>False</td>\n",
              "    </tr>\n",
              "    <tr>\n",
              "      <th>2</th>\n",
              "      <td>False</td>\n",
              "      <td>False</td>\n",
              "      <td>False</td>\n",
              "      <td>False</td>\n",
              "      <td>False</td>\n",
              "      <td>False</td>\n",
              "      <td>False</td>\n",
              "      <td>False</td>\n",
              "      <td>False</td>\n",
              "      <td>False</td>\n",
              "      <td>...</td>\n",
              "      <td>False</td>\n",
              "      <td>False</td>\n",
              "      <td>False</td>\n",
              "      <td>False</td>\n",
              "      <td>False</td>\n",
              "      <td>False</td>\n",
              "      <td>False</td>\n",
              "      <td>False</td>\n",
              "      <td>False</td>\n",
              "      <td>False</td>\n",
              "    </tr>\n",
              "    <tr>\n",
              "      <th>3</th>\n",
              "      <td>False</td>\n",
              "      <td>False</td>\n",
              "      <td>False</td>\n",
              "      <td>False</td>\n",
              "      <td>False</td>\n",
              "      <td>False</td>\n",
              "      <td>False</td>\n",
              "      <td>False</td>\n",
              "      <td>False</td>\n",
              "      <td>False</td>\n",
              "      <td>...</td>\n",
              "      <td>False</td>\n",
              "      <td>False</td>\n",
              "      <td>False</td>\n",
              "      <td>False</td>\n",
              "      <td>False</td>\n",
              "      <td>False</td>\n",
              "      <td>False</td>\n",
              "      <td>False</td>\n",
              "      <td>False</td>\n",
              "      <td>False</td>\n",
              "    </tr>\n",
              "    <tr>\n",
              "      <th>4</th>\n",
              "      <td>False</td>\n",
              "      <td>False</td>\n",
              "      <td>False</td>\n",
              "      <td>False</td>\n",
              "      <td>False</td>\n",
              "      <td>False</td>\n",
              "      <td>False</td>\n",
              "      <td>False</td>\n",
              "      <td>False</td>\n",
              "      <td>False</td>\n",
              "      <td>...</td>\n",
              "      <td>False</td>\n",
              "      <td>False</td>\n",
              "      <td>False</td>\n",
              "      <td>False</td>\n",
              "      <td>False</td>\n",
              "      <td>False</td>\n",
              "      <td>False</td>\n",
              "      <td>False</td>\n",
              "      <td>False</td>\n",
              "      <td>False</td>\n",
              "    </tr>\n",
              "    <tr>\n",
              "      <th>...</th>\n",
              "      <td>...</td>\n",
              "      <td>...</td>\n",
              "      <td>...</td>\n",
              "      <td>...</td>\n",
              "      <td>...</td>\n",
              "      <td>...</td>\n",
              "      <td>...</td>\n",
              "      <td>...</td>\n",
              "      <td>...</td>\n",
              "      <td>...</td>\n",
              "      <td>...</td>\n",
              "      <td>...</td>\n",
              "      <td>...</td>\n",
              "      <td>...</td>\n",
              "      <td>...</td>\n",
              "      <td>...</td>\n",
              "      <td>...</td>\n",
              "      <td>...</td>\n",
              "      <td>...</td>\n",
              "      <td>...</td>\n",
              "      <td>...</td>\n",
              "    </tr>\n",
              "    <tr>\n",
              "      <th>64456</th>\n",
              "      <td>False</td>\n",
              "      <td>False</td>\n",
              "      <td>False</td>\n",
              "      <td>False</td>\n",
              "      <td>False</td>\n",
              "      <td>False</td>\n",
              "      <td>False</td>\n",
              "      <td>False</td>\n",
              "      <td>False</td>\n",
              "      <td>False</td>\n",
              "      <td>...</td>\n",
              "      <td>False</td>\n",
              "      <td>False</td>\n",
              "      <td>False</td>\n",
              "      <td>False</td>\n",
              "      <td>False</td>\n",
              "      <td>False</td>\n",
              "      <td>False</td>\n",
              "      <td>True</td>\n",
              "      <td>False</td>\n",
              "      <td>False</td>\n",
              "    </tr>\n",
              "    <tr>\n",
              "      <th>64457</th>\n",
              "      <td>False</td>\n",
              "      <td>False</td>\n",
              "      <td>False</td>\n",
              "      <td>False</td>\n",
              "      <td>False</td>\n",
              "      <td>False</td>\n",
              "      <td>False</td>\n",
              "      <td>False</td>\n",
              "      <td>False</td>\n",
              "      <td>False</td>\n",
              "      <td>...</td>\n",
              "      <td>False</td>\n",
              "      <td>False</td>\n",
              "      <td>False</td>\n",
              "      <td>False</td>\n",
              "      <td>False</td>\n",
              "      <td>False</td>\n",
              "      <td>False</td>\n",
              "      <td>False</td>\n",
              "      <td>False</td>\n",
              "      <td>False</td>\n",
              "    </tr>\n",
              "    <tr>\n",
              "      <th>64458</th>\n",
              "      <td>False</td>\n",
              "      <td>False</td>\n",
              "      <td>False</td>\n",
              "      <td>False</td>\n",
              "      <td>False</td>\n",
              "      <td>False</td>\n",
              "      <td>False</td>\n",
              "      <td>False</td>\n",
              "      <td>False</td>\n",
              "      <td>False</td>\n",
              "      <td>...</td>\n",
              "      <td>False</td>\n",
              "      <td>False</td>\n",
              "      <td>False</td>\n",
              "      <td>False</td>\n",
              "      <td>False</td>\n",
              "      <td>False</td>\n",
              "      <td>False</td>\n",
              "      <td>False</td>\n",
              "      <td>False</td>\n",
              "      <td>False</td>\n",
              "    </tr>\n",
              "    <tr>\n",
              "      <th>64459</th>\n",
              "      <td>False</td>\n",
              "      <td>False</td>\n",
              "      <td>False</td>\n",
              "      <td>False</td>\n",
              "      <td>False</td>\n",
              "      <td>False</td>\n",
              "      <td>False</td>\n",
              "      <td>False</td>\n",
              "      <td>False</td>\n",
              "      <td>False</td>\n",
              "      <td>...</td>\n",
              "      <td>False</td>\n",
              "      <td>False</td>\n",
              "      <td>False</td>\n",
              "      <td>False</td>\n",
              "      <td>False</td>\n",
              "      <td>False</td>\n",
              "      <td>False</td>\n",
              "      <td>False</td>\n",
              "      <td>False</td>\n",
              "      <td>False</td>\n",
              "    </tr>\n",
              "    <tr>\n",
              "      <th>64460</th>\n",
              "      <td>False</td>\n",
              "      <td>False</td>\n",
              "      <td>False</td>\n",
              "      <td>False</td>\n",
              "      <td>False</td>\n",
              "      <td>False</td>\n",
              "      <td>False</td>\n",
              "      <td>False</td>\n",
              "      <td>False</td>\n",
              "      <td>False</td>\n",
              "      <td>...</td>\n",
              "      <td>False</td>\n",
              "      <td>False</td>\n",
              "      <td>False</td>\n",
              "      <td>False</td>\n",
              "      <td>False</td>\n",
              "      <td>False</td>\n",
              "      <td>False</td>\n",
              "      <td>False</td>\n",
              "      <td>False</td>\n",
              "      <td>False</td>\n",
              "    </tr>\n",
              "  </tbody>\n",
              "</table>\n",
              "<p>64451 rows × 23 columns</p>\n",
              "</div>\n",
              "      <button class=\"colab-df-convert\" onclick=\"convertToInteractive('df-fe523460-49c6-4d5f-83b2-30d35004d28b')\"\n",
              "              title=\"Convert this dataframe to an interactive table.\"\n",
              "              style=\"display:none;\">\n",
              "        \n",
              "  <svg xmlns=\"http://www.w3.org/2000/svg\" height=\"24px\"viewBox=\"0 0 24 24\"\n",
              "       width=\"24px\">\n",
              "    <path d=\"M0 0h24v24H0V0z\" fill=\"none\"/>\n",
              "    <path d=\"M18.56 5.44l.94 2.06.94-2.06 2.06-.94-2.06-.94-.94-2.06-.94 2.06-2.06.94zm-11 1L8.5 8.5l.94-2.06 2.06-.94-2.06-.94L8.5 2.5l-.94 2.06-2.06.94zm10 10l.94 2.06.94-2.06 2.06-.94-2.06-.94-.94-2.06-.94 2.06-2.06.94z\"/><path d=\"M17.41 7.96l-1.37-1.37c-.4-.4-.92-.59-1.43-.59-.52 0-1.04.2-1.43.59L10.3 9.45l-7.72 7.72c-.78.78-.78 2.05 0 2.83L4 21.41c.39.39.9.59 1.41.59.51 0 1.02-.2 1.41-.59l7.78-7.78 2.81-2.81c.8-.78.8-2.07 0-2.86zM5.41 20L4 18.59l7.72-7.72 1.47 1.35L5.41 20z\"/>\n",
              "  </svg>\n",
              "      </button>\n",
              "      \n",
              "  <style>\n",
              "    .colab-df-container {\n",
              "      display:flex;\n",
              "      flex-wrap:wrap;\n",
              "      gap: 12px;\n",
              "    }\n",
              "\n",
              "    .colab-df-convert {\n",
              "      background-color: #E8F0FE;\n",
              "      border: none;\n",
              "      border-radius: 50%;\n",
              "      cursor: pointer;\n",
              "      display: none;\n",
              "      fill: #1967D2;\n",
              "      height: 32px;\n",
              "      padding: 0 0 0 0;\n",
              "      width: 32px;\n",
              "    }\n",
              "\n",
              "    .colab-df-convert:hover {\n",
              "      background-color: #E2EBFA;\n",
              "      box-shadow: 0px 1px 2px rgba(60, 64, 67, 0.3), 0px 1px 3px 1px rgba(60, 64, 67, 0.15);\n",
              "      fill: #174EA6;\n",
              "    }\n",
              "\n",
              "    [theme=dark] .colab-df-convert {\n",
              "      background-color: #3B4455;\n",
              "      fill: #D2E3FC;\n",
              "    }\n",
              "\n",
              "    [theme=dark] .colab-df-convert:hover {\n",
              "      background-color: #434B5C;\n",
              "      box-shadow: 0px 1px 3px 1px rgba(0, 0, 0, 0.15);\n",
              "      filter: drop-shadow(0px 1px 2px rgba(0, 0, 0, 0.3));\n",
              "      fill: #FFFFFF;\n",
              "    }\n",
              "  </style>\n",
              "\n",
              "      <script>\n",
              "        const buttonEl =\n",
              "          document.querySelector('#df-fe523460-49c6-4d5f-83b2-30d35004d28b button.colab-df-convert');\n",
              "        buttonEl.style.display =\n",
              "          google.colab.kernel.accessAllowed ? 'block' : 'none';\n",
              "\n",
              "        async function convertToInteractive(key) {\n",
              "          const element = document.querySelector('#df-fe523460-49c6-4d5f-83b2-30d35004d28b');\n",
              "          const dataTable =\n",
              "            await google.colab.kernel.invokeFunction('convertToInteractive',\n",
              "                                                     [key], {});\n",
              "          if (!dataTable) return;\n",
              "\n",
              "          const docLinkHtml = 'Like what you see? Visit the ' +\n",
              "            '<a target=\"_blank\" href=https://colab.research.google.com/notebooks/data_table.ipynb>data table notebook</a>'\n",
              "            + ' to learn more about interactive tables.';\n",
              "          element.innerHTML = '';\n",
              "          dataTable['output_type'] = 'display_data';\n",
              "          await google.colab.output.renderOutput(dataTable, element);\n",
              "          const docLink = document.createElement('div');\n",
              "          docLink.innerHTML = docLinkHtml;\n",
              "          element.appendChild(docLink);\n",
              "        }\n",
              "      </script>\n",
              "    </div>\n",
              "  </div>\n",
              "  "
            ]
          },
          "metadata": {},
          "execution_count": 36
        }
      ]
    },
    {
      "cell_type": "code",
      "source": [
        "dev_type_totals = dev_type_df.sum().sort_values(ascending=False)/dev_type_df.sum().sum()*100\n",
        "dev_type_totals"
      ],
      "metadata": {
        "colab": {
          "base_uri": "https://localhost:8080/"
        },
        "id": "ZfkMKtufq4Id",
        "outputId": "66b6ae56-7224-43e2-8779-84cfcedeb4df"
      },
      "execution_count": null,
      "outputs": [
        {
          "output_type": "execute_result",
          "data": {
            "text/plain": [
              "Developer, back-end                              17.351692\n",
              "Developer, full-stack                            17.291465\n",
              "Developer, front-end                             11.653222\n",
              "Developer, desktop or enterprise applications     7.513599\n",
              "Developer, mobile                                 6.046375\n",
              "DevOps specialist                                 3.801329\n",
              "Database administrator                            3.637948\n",
              "Designer                                          3.379101\n",
              "System administrator                              3.334892\n",
              "Developer, embedded applications or devices       3.024789\n",
              "Data or business analyst                          2.551946\n",
              "Data scientist or machine learning specialist     2.531443\n",
              "Developer, QA or test                             2.505814\n",
              "Engineer, data                                    2.375750\n",
              "Academic researcher                               2.253375\n",
              "Educator                                          1.861901\n",
              "Developer, game or graphics                       1.768999\n",
              "Engineering manager                               1.735041\n",
              "Product manager                                   1.587678\n",
              "Scientist                                         1.323706\n",
              "Engineer, site reliability                        1.234006\n",
              "Senior executive/VP                               0.831641\n",
              "Marketing or sales professional                   0.404288\n",
              "dtype: float64"
            ]
          },
          "metadata": {},
          "execution_count": 39
        }
      ]
    },
    {
      "cell_type": "markdown",
      "source": [
        "##### Most common roles include developer.Data Scientist and Data analyst contribute around 4 percent ."
      ],
      "metadata": {
        "id": "5zpFAnw33ZA-"
      }
    },
    {
      "cell_type": "markdown",
      "source": [
        "#Asking and Answering Questions"
      ],
      "metadata": {
        "id": "6lZQx1h1IuWC"
      }
    },
    {
      "cell_type": "markdown",
      "source": [
        "###**Q** :How does programming experiennce change the way they feel after not getting the question which they already did?"
      ],
      "metadata": {
        "id": "CEtr-3ymtSnP"
      }
    },
    {
      "cell_type": "markdown",
      "source": [
        "# ![image.png](data:image/png;base64,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)"
      ],
      "metadata": {
        "id": "wyxQ3-hyJspo"
      }
    },
    {
      "cell_type": "markdown",
      "source": [
        "##### There are four options to choose.Lets look at the distribution of votes "
      ],
      "metadata": {
        "id": "7D83ycdOKROA"
      }
    },
    {
      "cell_type": "code",
      "source": [
        "survey_df['NEWPurpleLink'].value_counts()/survey_df['NEWPurpleLink'].shape[0]*100"
      ],
      "metadata": {
        "colab": {
          "base_uri": "https://localhost:8080/"
        },
        "id": "S72p--5ngBFI",
        "outputId": "e376e6ed-25c0-4444-f15d-c3543a0ccba4"
      },
      "execution_count": null,
      "outputs": [
        {
          "output_type": "execute_result",
          "data": {
            "text/plain": [
              "Hello, old friend    43.589704\n",
              "Indifferent          15.450497\n",
              "Amused               13.438116\n",
              "Annoyed              12.064980\n",
              "Name: NEWPurpleLink, dtype: float64"
            ]
          },
          "metadata": {},
          "execution_count": 40
        }
      ]
    },
    {
      "cell_type": "markdown",
      "source": [
        "####  40 percent of people choosed option Hello,old friend.Lets look at how many values are missing"
      ],
      "metadata": {
        "id": "yAvvk0EtKgns"
      }
    },
    {
      "cell_type": "code",
      "source": [
        "survey_df['NEWPurpleLink'].isna().sum()/survey_df['NEWPurpleLink'].shape[0]*100"
      ],
      "metadata": {
        "colab": {
          "base_uri": "https://localhost:8080/"
        },
        "id": "rdHq0lbKh01L",
        "outputId": "6e838ec7-8362-44a1-c1f7-6fc0a64bc28e"
      },
      "execution_count": null,
      "outputs": [
        {
          "output_type": "execute_result",
          "data": {
            "text/plain": [
              "15.456703542225878"
            ]
          },
          "metadata": {},
          "execution_count": 41
        }
      ]
    },
    {
      "cell_type": "markdown",
      "source": [
        "#### 15 % percent of values are missing,so we cannot drop the rows.Lets create different category unknown"
      ],
      "metadata": {
        "id": "SjNU19pMKwh7"
      }
    },
    {
      "cell_type": "code",
      "source": [
        "survey_df['NEWPurpleLink']=survey_df['NEWPurpleLink'].fillna(value='Unknown')"
      ],
      "metadata": {
        "id": "F2jTiukFh69j"
      },
      "execution_count": null,
      "outputs": []
    },
    {
      "cell_type": "code",
      "source": [
        "survey_df['NEWPurpleLink'].value_counts()"
      ],
      "metadata": {
        "colab": {
          "base_uri": "https://localhost:8080/"
        },
        "id": "s4Vl9QkMimGL",
        "outputId": "3a68e28c-c2de-4b41-f6c2-32e93bbc410c"
      },
      "execution_count": null,
      "outputs": [
        {
          "output_type": "execute_result",
          "data": {
            "text/plain": [
              "Hello, old friend    28094\n",
              "Unknown               9962\n",
              "Indifferent           9958\n",
              "Amused                8661\n",
              "Annoyed               7776\n",
              "Name: NEWPurpleLink, dtype: int64"
            ]
          },
          "metadata": {},
          "execution_count": 43
        }
      ]
    },
    {
      "cell_type": "markdown",
      "source": [
        "### Lets see if there is relation between the experience and the feeling after not solving a problem"
      ],
      "metadata": {
        "id": "-SzwI1L-Lhi2"
      }
    },
    {
      "cell_type": "code",
      "source": [
        "plt.figure(figsize=(12,6))\n",
        "plt.xticks(rotation=75)\n",
        "plt.title(schema.NEWPurpleLink)\n",
        "sns.boxplot(x='NEWPurpleLink', y='YearsCodePro', data=survey_df)"
      ],
      "metadata": {
        "colab": {
          "base_uri": "https://localhost:8080/",
          "height": 549
        },
        "id": "IE2d2jrIpYPa",
        "outputId": "d7f55cf7-aca4-4700-ebcb-df9f5c2da8dd"
      },
      "execution_count": null,
      "outputs": [
        {
          "output_type": "execute_result",
          "data": {
            "text/plain": [
              "<AxesSubplot:title={'center':'You search for a coding solution online and the first result link is purple because you already visited it. How do you feel?'}, xlabel='NEWPurpleLink', ylabel='YearsCodePro'>"
            ]
          },
          "metadata": {},
          "execution_count": 44
        },
        {
          "output_type": "display_data",
          "data": {
            "text/plain": [
              "<Figure size 864x432 with 1 Axes>"
            ],
            "image/png": "[encoded data removed]"
          },
          "metadata": {
            "needs_background": "light"
          }
        }
      ]
    },
    {
      "cell_type": "markdown",
      "source": [
        "######  There wasnt any significance relationship with the experience and the feeling after not solving a problem which is solved earlier.So we can say that it mostly depends on the attitude more than experience."
      ],
      "metadata": {
        "id": "24YFeWdYLwwV"
      }
    },
    {
      "cell_type": "markdown",
      "source": [
        "###How frequently does person learn new language or framework?"
      ],
      "metadata": {
        "id": "a33ZDJK7QyoF"
      }
    },
    {
      "cell_type": "markdown",
      "source": [
        "To answer, this we can use the NEWLearn column. "
      ],
      "metadata": {
        "id": "bOlV2QnjMHHh"
      }
    },
    {
      "cell_type": "markdown",
      "source": [
        "\n",
        "![image.png](data:image/png;base64,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)\n"
      ],
      "metadata": {
        "id": "LRp1axx3Mltm"
      }
    },
    {
      "cell_type": "code",
      "source": [
        "survey_df['NEWLearn'].head(5)"
      ],
      "metadata": {
        "colab": {
          "base_uri": "https://localhost:8080/"
        },
        "id": "V5kCXiiSzWPm",
        "outputId": "2286ccda-7258-4581-bc1a-828545477a0e"
      },
      "execution_count": null,
      "outputs": [
        {
          "output_type": "execute_result",
          "data": {
            "text/plain": [
              "0      Once a year\n",
              "1      Once a year\n",
              "2    Once a decade\n",
              "3      Once a year\n",
              "4      Once a year\n",
              "Name: NEWLearn, dtype: object"
            ]
          },
          "metadata": {},
          "execution_count": 45
        }
      ]
    },
    {
      "cell_type": "code",
      "source": [
        "survey_df['NEWLearn'].value_counts()/survey_df['NEWLearn'].shape[0]*100"
      ],
      "metadata": {
        "colab": {
          "base_uri": "https://localhost:8080/"
        },
        "id": "C4AZB5Rj0CRy",
        "outputId": "0b2e19b6-c825-44ca-9e56-85f4e31c674d"
      },
      "execution_count": null,
      "outputs": [
        {
          "output_type": "execute_result",
          "data": {
            "text/plain": [
              "Every few months        32.283440\n",
              "Once a year             31.938992\n",
              "Once every few years    20.524119\n",
              "Once a decade            1.917736\n",
              "Name: NEWLearn, dtype: float64"
            ]
          },
          "metadata": {},
          "execution_count": 46
        }
      ]
    },
    {
      "cell_type": "code",
      "source": [
        "survey_df['NEWLearn'].isna().sum()/survey_df['NEWLearn'].shape[0]*100"
      ],
      "metadata": {
        "colab": {
          "base_uri": "https://localhost:8080/"
        },
        "id": "3nc50b7q1MDn",
        "outputId": "7b102c93-04c2-455a-9fdb-fc313e747246"
      },
      "execution_count": null,
      "outputs": [
        {
          "output_type": "execute_result",
          "data": {
            "text/plain": [
              "13.335712401669486"
            ]
          },
          "metadata": {},
          "execution_count": 47
        }
      ]
    },
    {
      "cell_type": "code",
      "source": [
        "survey_df['NEWLearn']=survey_df['NEWLearn'].fillna(value='Unknown')"
      ],
      "metadata": {
        "id": "R00YsfA81VOD"
      },
      "execution_count": null,
      "outputs": []
    },
    {
      "cell_type": "code",
      "source": [
        "survey_df['NEWLearn'].sample(10)"
      ],
      "metadata": {
        "colab": {
          "base_uri": "https://localhost:8080/"
        },
        "id": "o-Qqk2-P1a27",
        "outputId": "7f0324bc-52ec-46ab-d9ea-39f2503d83cf"
      },
      "execution_count": null,
      "outputs": [
        {
          "output_type": "execute_result",
          "data": {
            "text/plain": [
              "51900             Once a year\n",
              "18628        Every few months\n",
              "48227                 Unknown\n",
              "41233           Once a decade\n",
              "58518    Once every few years\n",
              "8800     Once every few years\n",
              "64324                 Unknown\n",
              "27603        Every few months\n",
              "52097        Every few months\n",
              "16525             Once a year\n",
              "Name: NEWLearn, dtype: object"
            ]
          },
          "metadata": {},
          "execution_count": 49
        }
      ]
    },
    {
      "cell_type": "code",
      "source": [
        "(survey_df.NEWLearn.value_counts(normalize=True, ascending=True)*100).plot(kind='barh', color='g')\n",
        "plt.title(schema.NEWLearn)\n",
        "plt.xlabel('Percentage');"
      ],
      "metadata": {
        "colab": {
          "base_uri": "https://localhost:8080/",
          "height": 362
        },
        "id": "7iA4rPBb1p8A",
        "outputId": "55d2919c-bed2-4a63-c8ee-2be044c5c911"
      },
      "execution_count": null,
      "outputs": [
        {
          "output_type": "display_data",
          "data": {
            "text/plain": [
              "<Figure size 648x360 with 1 Axes>"
            ],
            "image/png": "[encoded data removed]"
          },
          "metadata": {
            "needs_background": "light"
          }
        }
      ]
    },
    {
      "cell_type": "markdown",
      "source": [
        "#### Around 30% of  people update the knowledge for every few months and then other 30 % of people learn for once a year.Its not surprising because to stay relevant field they need to update their knowledge regularly."
      ],
      "metadata": {
        "id": "_1A2gvvr-ON-"
      }
    },
    {
      "cell_type": "markdown",
      "source": [
        "#How do people learn more about company?"
      ],
      "metadata": {
        "id": "jg7NFdrxRVJv"
      }
    },
    {
      "cell_type": "markdown",
      "source": [
        "#### As this question is multi optional,lets split the columns and analyze it."
      ],
      "metadata": {
        "id": "wl5mdTg3_Vuv"
      }
    },
    {
      "cell_type": "code",
      "source": [
        "JobHunt_df = split_multicolumn(survey_df.NEWJobHuntResearch)"
      ],
      "metadata": {
        "id": "BEoBBt4G3c6v"
      },
      "execution_count": null,
      "outputs": []
    },
    {
      "cell_type": "code",
      "source": [
        "JobHunt_df.head(5)"
      ],
      "metadata": {
        "colab": {
          "base_uri": "https://localhost:8080/",
          "height": 285
        },
        "id": "abaqwAe-3yv0",
        "outputId": "cc821ea2-771c-48a0-ec43-627be030948b"
      },
      "execution_count": null,
      "outputs": [
        {
          "output_type": "execute_result",
          "data": {
            "text/plain": [
              "   Read company media, such as employee blogs or company culture videos  \\\n",
              "0                                              False                      \n",
              "1                                              False                      \n",
              "2                                              False                      \n",
              "3                                              False                      \n",
              "4                                              False                      \n",
              "\n",
              "   Company reviews from third party sites (e.g. Glassdoor, Blind)  \\\n",
              "0                                              False                \n",
              "1                                              False                \n",
              "2                                              False                \n",
              "3                                              False                \n",
              "4                                              False                \n",
              "\n",
              "   Publicly available financial information (e.g. Crunchbase)  \\\n",
              "0                                              False            \n",
              "1                                              False            \n",
              "2                                              False            \n",
              "3                                              False            \n",
              "4                                              False            \n",
              "\n",
              "   Personal network - friends or family  \\\n",
              "0                                 False   \n",
              "1                                 False   \n",
              "2                                 False   \n",
              "3                                 False   \n",
              "4                                 False   \n",
              "\n",
              "   Read other media like news articles, founder profiles, etc. about the company  \\\n",
              "0                                              False                               \n",
              "1                                              False                               \n",
              "2                                              False                               \n",
              "3                                              False                               \n",
              "4                                              False                               \n",
              "\n",
              "   Directly asking current or past employees at the company  \n",
              "0                                              False         \n",
              "1                                              False         \n",
              "2                                              False         \n",
              "3                                              False         \n",
              "4                                              False         "
            ],
            "text/html": [
              "\n",
              "  <div id=\"df-69bf5565-068f-4e84-8454-d4c82a71e4d1\">\n",
              "    <div class=\"colab-df-container\">\n",
              "      <div>\n",
              "<style scoped>\n",
              "    .dataframe tbody tr th:only-of-type {\n",
              "        vertical-align: middle;\n",
              "    }\n",
              "\n",
              "    .dataframe tbody tr th {\n",
              "        vertical-align: top;\n",
              "    }\n",
              "\n",
              "    .dataframe thead th {\n",
              "        text-align: right;\n",
              "    }\n",
              "</style>\n",
              "<table border=\"1\" class=\"dataframe\">\n",
              "  <thead>\n",
              "    <tr style=\"text-align: right;\">\n",
              "      <th></th>\n",
              "      <th>Read company media, such as employee blogs or company culture videos</th>\n",
              "      <th>Company reviews from third party sites (e.g. Glassdoor, Blind)</th>\n",
              "      <th>Publicly available financial information (e.g. Crunchbase)</th>\n",
              "      <th>Personal network - friends or family</th>\n",
              "      <th>Read other media like news articles, founder profiles, etc. about the company</th>\n",
              "      <th>Directly asking current or past employees at the company</th>\n",
              "    </tr>\n",
              "  </thead>\n",
              "  <tbody>\n",
              "    <tr>\n",
              "      <th>0</th>\n",
              "      <td>False</td>\n",
              "      <td>False</td>\n",
              "      <td>False</td>\n",
              "      <td>False</td>\n",
              "      <td>False</td>\n",
              "      <td>False</td>\n",
              "    </tr>\n",
              "    <tr>\n",
              "      <th>1</th>\n",
              "      <td>False</td>\n",
              "      <td>False</td>\n",
              "      <td>False</td>\n",
              "      <td>False</td>\n",
              "      <td>False</td>\n",
              "      <td>False</td>\n",
              "    </tr>\n",
              "    <tr>\n",
              "      <th>2</th>\n",
              "      <td>False</td>\n",
              "      <td>False</td>\n",
              "      <td>False</td>\n",
              "      <td>False</td>\n",
              "      <td>False</td>\n",
              "      <td>False</td>\n",
              "    </tr>\n",
              "    <tr>\n",
              "      <th>3</th>\n",
              "      <td>False</td>\n",
              "      <td>False</td>\n",
              "      <td>False</td>\n",
              "      <td>False</td>\n",
              "      <td>False</td>\n",
              "      <td>False</td>\n",
              "    </tr>\n",
              "    <tr>\n",
              "      <th>4</th>\n",
              "      <td>False</td>\n",
              "      <td>False</td>\n",
              "      <td>False</td>\n",
              "      <td>False</td>\n",
              "      <td>False</td>\n",
              "      <td>False</td>\n",
              "    </tr>\n",
              "  </tbody>\n",
              "</table>\n",
              "</div>\n",
              "      <button class=\"colab-df-convert\" onclick=\"convertToInteractive('df-69bf5565-068f-4e84-8454-d4c82a71e4d1')\"\n",
              "              title=\"Convert this dataframe to an interactive table.\"\n",
              "              style=\"display:none;\">\n",
              "        \n",
              "  <svg xmlns=\"http://www.w3.org/2000/svg\" height=\"24px\"viewBox=\"0 0 24 24\"\n",
              "       width=\"24px\">\n",
              "    <path d=\"M0 0h24v24H0V0z\" fill=\"none\"/>\n",
              "    <path d=\"M18.56 5.44l.94 2.06.94-2.06 2.06-.94-2.06-.94-.94-2.06-.94 2.06-2.06.94zm-11 1L8.5 8.5l.94-2.06 2.06-.94-2.06-.94L8.5 2.5l-.94 2.06-2.06.94zm10 10l.94 2.06.94-2.06 2.06-.94-2.06-.94-.94-2.06-.94 2.06-2.06.94z\"/><path d=\"M17.41 7.96l-1.37-1.37c-.4-.4-.92-.59-1.43-.59-.52 0-1.04.2-1.43.59L10.3 9.45l-7.72 7.72c-.78.78-.78 2.05 0 2.83L4 21.41c.39.39.9.59 1.41.59.51 0 1.02-.2 1.41-.59l7.78-7.78 2.81-2.81c.8-.78.8-2.07 0-2.86zM5.41 20L4 18.59l7.72-7.72 1.47 1.35L5.41 20z\"/>\n",
              "  </svg>\n",
              "      </button>\n",
              "      \n",
              "  <style>\n",
              "    .colab-df-container {\n",
              "      display:flex;\n",
              "      flex-wrap:wrap;\n",
              "      gap: 12px;\n",
              "    }\n",
              "\n",
              "    .colab-df-convert {\n",
              "      background-color: #E8F0FE;\n",
              "      border: none;\n",
              "      border-radius: 50%;\n",
              "      cursor: pointer;\n",
              "      display: none;\n",
              "      fill: #1967D2;\n",
              "      height: 32px;\n",
              "      padding: 0 0 0 0;\n",
              "      width: 32px;\n",
              "    }\n",
              "\n",
              "    .colab-df-convert:hover {\n",
              "      background-color: #E2EBFA;\n",
              "      box-shadow: 0px 1px 2px rgba(60, 64, 67, 0.3), 0px 1px 3px 1px rgba(60, 64, 67, 0.15);\n",
              "      fill: #174EA6;\n",
              "    }\n",
              "\n",
              "    [theme=dark] .colab-df-convert {\n",
              "      background-color: #3B4455;\n",
              "      fill: #D2E3FC;\n",
              "    }\n",
              "\n",
              "    [theme=dark] .colab-df-convert:hover {\n",
              "      background-color: #434B5C;\n",
              "      box-shadow: 0px 1px 3px 1px rgba(0, 0, 0, 0.15);\n",
              "      filter: drop-shadow(0px 1px 2px rgba(0, 0, 0, 0.3));\n",
              "      fill: #FFFFFF;\n",
              "    }\n",
              "  </style>\n",
              "\n",
              "      <script>\n",
              "        const buttonEl =\n",
              "          document.querySelector('#df-69bf5565-068f-4e84-8454-d4c82a71e4d1 button.colab-df-convert');\n",
              "        buttonEl.style.display =\n",
              "          google.colab.kernel.accessAllowed ? 'block' : 'none';\n",
              "\n",
              "        async function convertToInteractive(key) {\n",
              "          const element = document.querySelector('#df-69bf5565-068f-4e84-8454-d4c82a71e4d1');\n",
              "          const dataTable =\n",
              "            await google.colab.kernel.invokeFunction('convertToInteractive',\n",
              "                                                     [key], {});\n",
              "          if (!dataTable) return;\n",
              "\n",
              "          const docLinkHtml = 'Like what you see? Visit the ' +\n",
              "            '<a target=\"_blank\" href=https://colab.research.google.com/notebooks/data_table.ipynb>data table notebook</a>'\n",
              "            + ' to learn more about interactive tables.';\n",
              "          element.innerHTML = '';\n",
              "          dataTable['output_type'] = 'display_data';\n",
              "          await google.colab.output.renderOutput(dataTable, element);\n",
              "          const docLink = document.createElement('div');\n",
              "          docLink.innerHTML = docLinkHtml;\n",
              "          element.appendChild(docLink);\n",
              "        }\n",
              "      </script>\n",
              "    </div>\n",
              "  </div>\n",
              "  "
            ]
          },
          "metadata": {},
          "execution_count": 53
        }
      ]
    },
    {
      "cell_type": "code",
      "source": [
        "JobHunttotals = JobHunt_df.sum().sort_values(ascending=False)\n",
        "JobHunttotals "
      ],
      "metadata": {
        "colab": {
          "base_uri": "https://localhost:8080/"
        },
        "id": "4LmT0jLv344W",
        "outputId": "ca297773-ac5a-40bb-b532-922f2a3249d6"
      },
      "execution_count": null,
      "outputs": [
        {
          "output_type": "execute_result",
          "data": {
            "text/plain": [
              "Company reviews from third party sites (e.g. Glassdoor, Blind)                   28396\n",
              "Read company media, such as employee blogs or company culture videos             26634\n",
              "Personal network - friends or family                                             25847\n",
              "Read other media like news articles, founder profiles, etc. about the company    20079\n",
              "Directly asking current or past employees at the company                         14740\n",
              "Publicly available financial information (e.g. Crunchbase)                       10763\n",
              "dtype: int64"
            ]
          },
          "metadata": {},
          "execution_count": 54
        }
      ]
    },
    {
      "cell_type": "code",
      "source": [
        "plt.figure(figsize=(6, 6))\n",
        "sns.barplot(x=JobHunttotals, y=JobHunttotals.index)\n",
        "plt.title(\"JobHunt\");\n",
        "plt.xlabel('count');"
      ],
      "metadata": {
        "colab": {
          "base_uri": "https://localhost:8080/",
          "height": 416
        },
        "id": "eDEd3lcGA1wZ",
        "outputId": "106c7804-8911-4bf9-ddb1-ad4044a0e3e5"
      },
      "execution_count": null,
      "outputs": [
        {
          "output_type": "display_data",
          "data": {
            "text/plain": [
              "<Figure size 432x432 with 1 Axes>"
            ],
            "image/png": "[encoded data removed]"
          },
          "metadata": {
            "needs_background": "light"
          }
        }
      ]
    },
    {
      "cell_type": "markdown",
      "source": [
        "#### Most people learn more about companies through the third party sites like glassdoor which isn't surprising."
      ],
      "metadata": {
        "id": "GkynR859BLd5"
      }
    },
    {
      "cell_type": "markdown",
      "source": [
        "###How do you important is formal education,such as university degree in computer science to your career?"
      ],
      "metadata": {
        "id": "E6JwaO9GfUXz"
      }
    },
    {
      "cell_type": "code",
      "source": [
        "survey_df['NEWEdImpt'].head(5)"
      ],
      "metadata": {
        "colab": {
          "base_uri": "https://localhost:8080/"
        },
        "id": "xfmoqMmD5Gby",
        "outputId": "e9f23fdd-3556-4630-917d-b9c45a6e83b8"
      },
      "execution_count": null,
      "outputs": [
        {
          "output_type": "execute_result",
          "data": {
            "text/plain": [
              "0                      Fairly important\n",
              "1                      Fairly important\n",
              "2                                   NaN\n",
              "3    Not at all important/not necessary\n",
              "4                        Very important\n",
              "Name: NEWEdImpt, dtype: object"
            ]
          },
          "metadata": {},
          "execution_count": 62
        }
      ]
    },
    {
      "cell_type": "code",
      "source": [
        "survey_df['NEWEdImpt'].value_counts()/survey_df['NEWEdImpt'].shape[0]*100"
      ],
      "metadata": {
        "colab": {
          "base_uri": "https://localhost:8080/"
        },
        "id": "DQPEbdZl6TkI",
        "outputId": "251bf787-7a6c-4763-c13b-18165c061127"
      },
      "execution_count": null,
      "outputs": [
        {
          "output_type": "execute_result",
          "data": {
            "text/plain": [
              "Fairly important                      19.591628\n",
              "Very important                        18.327101\n",
              "Somewhat important                    17.576143\n",
              "Not at all important/not necessary    11.999814\n",
              "Critically important                   7.335805\n",
              "Name: NEWEdImpt, dtype: float64"
            ]
          },
          "metadata": {},
          "execution_count": 63
        }
      ]
    },
    {
      "cell_type": "code",
      "source": [
        "survey_df['NEWEdImpt'].isna().sum()/survey_df['NEWEdImpt'].shape[0]*100"
      ],
      "metadata": {
        "colab": {
          "base_uri": "https://localhost:8080/"
        },
        "id": "vzX3C4xs6dWX",
        "outputId": "8e6a4e37-e630-429d-bead-8d9d5f6fe9d2"
      },
      "execution_count": null,
      "outputs": [
        {
          "output_type": "execute_result",
          "data": {
            "text/plain": [
              "25.169508618950832"
            ]
          },
          "metadata": {},
          "execution_count": 64
        }
      ]
    },
    {
      "cell_type": "code",
      "source": [
        "(survey_df.NEWEdImpt.value_counts(normalize=True, ascending=True)*100).plot(kind='barh', color='g')\n",
        "plt.title(schema.NEWEdImpt)\n",
        "plt.xlabel('Percentage');"
      ],
      "metadata": {
        "colab": {
          "base_uri": "https://localhost:8080/",
          "height": 362
        },
        "id": "f9KDHb5860YW",
        "outputId": "a6148b62-efc1-4617-a7cc-131f198badfc"
      },
      "execution_count": null,
      "outputs": [
        {
          "output_type": "display_data",
          "data": {
            "text/plain": [
              "<Figure size 648x360 with 1 Axes>"
            ],
            "image/png": "[encoded data removed]"
          },
          "metadata": {
            "needs_background": "light"
          }
        }
      ]
    },
    {
      "cell_type": "code",
      "source": [
        "dev_type_df[dev_type_df['Data scientist or machine learning specialist']==True]"
      ],
      "metadata": {
        "colab": {
          "base_uri": "https://localhost:8080/",
          "height": 557
        },
        "id": "gE9Q96Lx7J3F",
        "outputId": "cd23551e-5d23-4212-e5d6-908183ece643"
      },
      "execution_count": null,
      "outputs": [
        {
          "output_type": "execute_result",
          "data": {
            "text/plain": [
              "       Developer, desktop or enterprise applications  Developer, full-stack  \\\n",
              "35                                             False                  False   \n",
              "46                                             False                  False   \n",
              "68                                             False                   True   \n",
              "71                                             False                  False   \n",
              "76                                             False                  False   \n",
              "...                                              ...                    ...   \n",
              "64401                                           True                   True   \n",
              "64407                                          False                   True   \n",
              "64432                                          False                  False   \n",
              "64446                                           True                   True   \n",
              "64451                                          False                  False   \n",
              "\n",
              "       Developer, mobile  Designer  Developer, front-end  Developer, back-end  \\\n",
              "35                 False     False                 False                False   \n",
              "46                 False     False                 False                 True   \n",
              "68                 False     False                 False                 True   \n",
              "71                 False     False                 False                False   \n",
              "76                 False     False                 False                False   \n",
              "...                  ...       ...                   ...                  ...   \n",
              "64401               True      True                  True                 True   \n",
              "64407              False     False                  True                 True   \n",
              "64432              False     False                  True                 True   \n",
              "64446               True      True                  True                 True   \n",
              "64451              False     False                 False                False   \n",
              "\n",
              "       Developer, QA or test  DevOps specialist  Developer, game or graphics  \\\n",
              "35                     False              False                        False   \n",
              "46                      True              False                        False   \n",
              "68                     False              False                        False   \n",
              "71                     False              False                        False   \n",
              "76                     False              False                        False   \n",
              "...                      ...                ...                          ...   \n",
              "64401                   True               True                         True   \n",
              "64407                  False              False                        False   \n",
              "64432                  False              False                        False   \n",
              "64446                   True               True                         True   \n",
              "64451                  False              False                        False   \n",
              "\n",
              "       Database administrator  ...  System administrator  Engineering manager  \\\n",
              "35                      False  ...                 False                False   \n",
              "46                      False  ...                 False                False   \n",
              "68                       True  ...                 False                False   \n",
              "71                      False  ...                 False                False   \n",
              "76                      False  ...                 False                False   \n",
              "...                       ...  ...                   ...                  ...   \n",
              "64401                    True  ...                  True                 True   \n",
              "64407                    True  ...                  True                False   \n",
              "64432                    True  ...                  True                False   \n",
              "64446                    True  ...                  True                False   \n",
              "64451                   False  ...                 False                False   \n",
              "\n",
              "       Product manager  Data or business analyst  Academic researcher  \\\n",
              "35               False                      True                False   \n",
              "46               False                     False                False   \n",
              "68               False                     False                False   \n",
              "71               False                      True                False   \n",
              "76               False                     False                 True   \n",
              "...                ...                       ...                  ...   \n",
              "64401             True                      True                 True   \n",
              "64407             True                      True                 True   \n",
              "64432            False                     False                False   \n",
              "64446            False                      True                 True   \n",
              "64451            False                     False                False   \n",
              "\n",
              "       Data scientist or machine learning specialist  Scientist  \\\n",
              "35                                              True      False   \n",
              "46                                              True       True   \n",
              "68                                              True      False   \n",
              "71                                              True      False   \n",
              "76                                              True       True   \n",
              "...                                              ...        ...   \n",
              "64401                                           True       True   \n",
              "64407                                           True       True   \n",
              "64432                                           True      False   \n",
              "64446                                           True      False   \n",
              "64451                                           True      False   \n",
              "\n",
              "       Senior executive/VP  Engineer, site reliability  \\\n",
              "35                   False                       False   \n",
              "46                   False                       False   \n",
              "68                   False                       False   \n",
              "71                   False                       False   \n",
              "76                   False                       False   \n",
              "...                    ...                         ...   \n",
              "64401                 True                        True   \n",
              "64407                False                       False   \n",
              "64432                False                       False   \n",
              "64446                 True                       False   \n",
              "64451                False                       False   \n",
              "\n",
              "       Marketing or sales professional  \n",
              "35                               False  \n",
              "46                               False  \n",
              "68                               False  \n",
              "71                               False  \n",
              "76                               False  \n",
              "...                                ...  \n",
              "64401                             True  \n",
              "64407                            False  \n",
              "64432                            False  \n",
              "64446                            False  \n",
              "64451                            False  \n",
              "\n",
              "[3939 rows x 23 columns]"
            ],
            "text/html": [
              "\n",
              "  <div id=\"df-0b738a30-2500-4953-9ecb-3a28e04e20c0\">\n",
              "    <div class=\"colab-df-container\">\n",
              "      <div>\n",
              "<style scoped>\n",
              "    .dataframe tbody tr th:only-of-type {\n",
              "        vertical-align: middle;\n",
              "    }\n",
              "\n",
              "    .dataframe tbody tr th {\n",
              "        vertical-align: top;\n",
              "    }\n",
              "\n",
              "    .dataframe thead th {\n",
              "        text-align: right;\n",
              "    }\n",
              "</style>\n",
              "<table border=\"1\" class=\"dataframe\">\n",
              "  <thead>\n",
              "    <tr style=\"text-align: right;\">\n",
              "      <th></th>\n",
              "      <th>Developer, desktop or enterprise applications</th>\n",
              "      <th>Developer, full-stack</th>\n",
              "      <th>Developer, mobile</th>\n",
              "      <th>Designer</th>\n",
              "      <th>Developer, front-end</th>\n",
              "      <th>Developer, back-end</th>\n",
              "      <th>Developer, QA or test</th>\n",
              "      <th>DevOps specialist</th>\n",
              "      <th>Developer, game or graphics</th>\n",
              "      <th>Database administrator</th>\n",
              "      <th>...</th>\n",
              "      <th>System administrator</th>\n",
              "      <th>Engineering manager</th>\n",
              "      <th>Product manager</th>\n",
              "      <th>Data or business analyst</th>\n",
              "      <th>Academic researcher</th>\n",
              "      <th>Data scientist or machine learning specialist</th>\n",
              "      <th>Scientist</th>\n",
              "      <th>Senior executive/VP</th>\n",
              "      <th>Engineer, site reliability</th>\n",
              "      <th>Marketing or sales professional</th>\n",
              "    </tr>\n",
              "  </thead>\n",
              "  <tbody>\n",
              "    <tr>\n",
              "      <th>35</th>\n",
              "      <td>False</td>\n",
              "      <td>False</td>\n",
              "      <td>False</td>\n",
              "      <td>False</td>\n",
              "      <td>False</td>\n",
              "      <td>False</td>\n",
              "      <td>False</td>\n",
              "      <td>False</td>\n",
              "      <td>False</td>\n",
              "      <td>False</td>\n",
              "      <td>...</td>\n",
              "      <td>False</td>\n",
              "      <td>False</td>\n",
              "      <td>False</td>\n",
              "      <td>True</td>\n",
              "      <td>False</td>\n",
              "      <td>True</td>\n",
              "      <td>False</td>\n",
              "      <td>False</td>\n",
              "      <td>False</td>\n",
              "      <td>False</td>\n",
              "    </tr>\n",
              "    <tr>\n",
              "      <th>46</th>\n",
              "      <td>False</td>\n",
              "      <td>False</td>\n",
              "      <td>False</td>\n",
              "      <td>False</td>\n",
              "      <td>False</td>\n",
              "      <td>True</td>\n",
              "      <td>True</td>\n",
              "      <td>False</td>\n",
              "      <td>False</td>\n",
              "      <td>False</td>\n",
              "      <td>...</td>\n",
              "      <td>False</td>\n",
              "      <td>False</td>\n",
              "      <td>False</td>\n",
              "      <td>False</td>\n",
              "      <td>False</td>\n",
              "      <td>True</td>\n",
              "      <td>True</td>\n",
              "      <td>False</td>\n",
              "      <td>False</td>\n",
              "      <td>False</td>\n",
              "    </tr>\n",
              "    <tr>\n",
              "      <th>68</th>\n",
              "      <td>False</td>\n",
              "      <td>True</td>\n",
              "      <td>False</td>\n",
              "      <td>False</td>\n",
              "      <td>False</td>\n",
              "      <td>True</td>\n",
              "      <td>False</td>\n",
              "      <td>False</td>\n",
              "      <td>False</td>\n",
              "      <td>True</td>\n",
              "      <td>...</td>\n",
              "      <td>False</td>\n",
              "      <td>False</td>\n",
              "      <td>False</td>\n",
              "      <td>False</td>\n",
              "      <td>False</td>\n",
              "      <td>True</td>\n",
              "      <td>False</td>\n",
              "      <td>False</td>\n",
              "      <td>False</td>\n",
              "      <td>False</td>\n",
              "    </tr>\n",
              "    <tr>\n",
              "      <th>71</th>\n",
              "      <td>False</td>\n",
              "      <td>False</td>\n",
              "      <td>False</td>\n",
              "      <td>False</td>\n",
              "      <td>False</td>\n",
              "      <td>False</td>\n",
              "      <td>False</td>\n",
              "      <td>False</td>\n",
              "      <td>False</td>\n",
              "      <td>False</td>\n",
              "      <td>...</td>\n",
              "      <td>False</td>\n",
              "      <td>False</td>\n",
              "      <td>False</td>\n",
              "      <td>True</td>\n",
              "      <td>False</td>\n",
              "      <td>True</td>\n",
              "      <td>False</td>\n",
              "      <td>False</td>\n",
              "      <td>False</td>\n",
              "      <td>False</td>\n",
              "    </tr>\n",
              "    <tr>\n",
              "      <th>76</th>\n",
              "      <td>False</td>\n",
              "      <td>False</td>\n",
              "      <td>False</td>\n",
              "      <td>False</td>\n",
              "      <td>False</td>\n",
              "      <td>False</td>\n",
              "      <td>False</td>\n",
              "      <td>False</td>\n",
              "      <td>False</td>\n",
              "      <td>False</td>\n",
              "      <td>...</td>\n",
              "      <td>False</td>\n",
              "      <td>False</td>\n",
              "      <td>False</td>\n",
              "      <td>False</td>\n",
              "      <td>True</td>\n",
              "      <td>True</td>\n",
              "      <td>True</td>\n",
              "      <td>False</td>\n",
              "      <td>False</td>\n",
              "      <td>False</td>\n",
              "    </tr>\n",
              "    <tr>\n",
              "      <th>...</th>\n",
              "      <td>...</td>\n",
              "      <td>...</td>\n",
              "      <td>...</td>\n",
              "      <td>...</td>\n",
              "      <td>...</td>\n",
              "      <td>...</td>\n",
              "      <td>...</td>\n",
              "      <td>...</td>\n",
              "      <td>...</td>\n",
              "      <td>...</td>\n",
              "      <td>...</td>\n",
              "      <td>...</td>\n",
              "      <td>...</td>\n",
              "      <td>...</td>\n",
              "      <td>...</td>\n",
              "      <td>...</td>\n",
              "      <td>...</td>\n",
              "      <td>...</td>\n",
              "      <td>...</td>\n",
              "      <td>...</td>\n",
              "      <td>...</td>\n",
              "    </tr>\n",
              "    <tr>\n",
              "      <th>64401</th>\n",
              "      <td>True</td>\n",
              "      <td>True</td>\n",
              "      <td>True</td>\n",
              "      <td>True</td>\n",
              "      <td>True</td>\n",
              "      <td>True</td>\n",
              "      <td>True</td>\n",
              "      <td>True</td>\n",
              "      <td>True</td>\n",
              "      <td>True</td>\n",
              "      <td>...</td>\n",
              "      <td>True</td>\n",
              "      <td>True</td>\n",
              "      <td>True</td>\n",
              "      <td>True</td>\n",
              "      <td>True</td>\n",
              "      <td>True</td>\n",
              "      <td>True</td>\n",
              "      <td>True</td>\n",
              "      <td>True</td>\n",
              "      <td>True</td>\n",
              "    </tr>\n",
              "    <tr>\n",
              "      <th>64407</th>\n",
              "      <td>False</td>\n",
              "      <td>True</td>\n",
              "      <td>False</td>\n",
              "      <td>False</td>\n",
              "      <td>True</td>\n",
              "      <td>True</td>\n",
              "      <td>False</td>\n",
              "      <td>False</td>\n",
              "      <td>False</td>\n",
              "      <td>True</td>\n",
              "      <td>...</td>\n",
              "      <td>True</td>\n",
              "      <td>False</td>\n",
              "      <td>True</td>\n",
              "      <td>True</td>\n",
              "      <td>True</td>\n",
              "      <td>True</td>\n",
              "      <td>True</td>\n",
              "      <td>False</td>\n",
              "      <td>False</td>\n",
              "      <td>False</td>\n",
              "    </tr>\n",
              "    <tr>\n",
              "      <th>64432</th>\n",
              "      <td>False</td>\n",
              "      <td>False</td>\n",
              "      <td>False</td>\n",
              "      <td>False</td>\n",
              "      <td>True</td>\n",
              "      <td>True</td>\n",
              "      <td>False</td>\n",
              "      <td>False</td>\n",
              "      <td>False</td>\n",
              "      <td>True</td>\n",
              "      <td>...</td>\n",
              "      <td>True</td>\n",
              "      <td>False</td>\n",
              "      <td>False</td>\n",
              "      <td>False</td>\n",
              "      <td>False</td>\n",
              "      <td>True</td>\n",
              "      <td>False</td>\n",
              "      <td>False</td>\n",
              "      <td>False</td>\n",
              "      <td>False</td>\n",
              "    </tr>\n",
              "    <tr>\n",
              "      <th>64446</th>\n",
              "      <td>True</td>\n",
              "      <td>True</td>\n",
              "      <td>True</td>\n",
              "      <td>True</td>\n",
              "      <td>True</td>\n",
              "      <td>True</td>\n",
              "      <td>True</td>\n",
              "      <td>True</td>\n",
              "      <td>True</td>\n",
              "      <td>True</td>\n",
              "      <td>...</td>\n",
              "      <td>True</td>\n",
              "      <td>False</td>\n",
              "      <td>False</td>\n",
              "      <td>True</td>\n",
              "      <td>True</td>\n",
              "      <td>True</td>\n",
              "      <td>False</td>\n",
              "      <td>True</td>\n",
              "      <td>False</td>\n",
              "      <td>False</td>\n",
              "    </tr>\n",
              "    <tr>\n",
              "      <th>64451</th>\n",
              "      <td>False</td>\n",
              "      <td>False</td>\n",
              "      <td>False</td>\n",
              "      <td>False</td>\n",
              "      <td>False</td>\n",
              "      <td>False</td>\n",
              "      <td>False</td>\n",
              "      <td>False</td>\n",
              "      <td>False</td>\n",
              "      <td>False</td>\n",
              "      <td>...</td>\n",
              "      <td>False</td>\n",
              "      <td>False</td>\n",
              "      <td>False</td>\n",
              "      <td>False</td>\n",
              "      <td>False</td>\n",
              "      <td>True</td>\n",
              "      <td>False</td>\n",
              "      <td>False</td>\n",
              "      <td>False</td>\n",
              "      <td>False</td>\n",
              "    </tr>\n",
              "  </tbody>\n",
              "</table>\n",
              "<p>3939 rows × 23 columns</p>\n",
              "</div>\n",
              "      <button class=\"colab-df-convert\" onclick=\"convertToInteractive('df-0b738a30-2500-4953-9ecb-3a28e04e20c0')\"\n",
              "              title=\"Convert this dataframe to an interactive table.\"\n",
              "              style=\"display:none;\">\n",
              "        \n",
              "  <svg xmlns=\"http://www.w3.org/2000/svg\" height=\"24px\"viewBox=\"0 0 24 24\"\n",
              "       width=\"24px\">\n",
              "    <path d=\"M0 0h24v24H0V0z\" fill=\"none\"/>\n",
              "    <path d=\"M18.56 5.44l.94 2.06.94-2.06 2.06-.94-2.06-.94-.94-2.06-.94 2.06-2.06.94zm-11 1L8.5 8.5l.94-2.06 2.06-.94-2.06-.94L8.5 2.5l-.94 2.06-2.06.94zm10 10l.94 2.06.94-2.06 2.06-.94-2.06-.94-.94-2.06-.94 2.06-2.06.94z\"/><path d=\"M17.41 7.96l-1.37-1.37c-.4-.4-.92-.59-1.43-.59-.52 0-1.04.2-1.43.59L10.3 9.45l-7.72 7.72c-.78.78-.78 2.05 0 2.83L4 21.41c.39.39.9.59 1.41.59.51 0 1.02-.2 1.41-.59l7.78-7.78 2.81-2.81c.8-.78.8-2.07 0-2.86zM5.41 20L4 18.59l7.72-7.72 1.47 1.35L5.41 20z\"/>\n",
              "  </svg>\n",
              "      </button>\n",
              "      \n",
              "  <style>\n",
              "    .colab-df-container {\n",
              "      display:flex;\n",
              "      flex-wrap:wrap;\n",
              "      gap: 12px;\n",
              "    }\n",
              "\n",
              "    .colab-df-convert {\n",
              "      background-color: #E8F0FE;\n",
              "      border: none;\n",
              "      border-radius: 50%;\n",
              "      cursor: pointer;\n",
              "      display: none;\n",
              "      fill: #1967D2;\n",
              "      height: 32px;\n",
              "      padding: 0 0 0 0;\n",
              "      width: 32px;\n",
              "    }\n",
              "\n",
              "    .colab-df-convert:hover {\n",
              "      background-color: #E2EBFA;\n",
              "      box-shadow: 0px 1px 2px rgba(60, 64, 67, 0.3), 0px 1px 3px 1px rgba(60, 64, 67, 0.15);\n",
              "      fill: #174EA6;\n",
              "    }\n",
              "\n",
              "    [theme=dark] .colab-df-convert {\n",
              "      background-color: #3B4455;\n",
              "      fill: #D2E3FC;\n",
              "    }\n",
              "\n",
              "    [theme=dark] .colab-df-convert:hover {\n",
              "      background-color: #434B5C;\n",
              "      box-shadow: 0px 1px 3px 1px rgba(0, 0, 0, 0.15);\n",
              "      filter: drop-shadow(0px 1px 2px rgba(0, 0, 0, 0.3));\n",
              "      fill: #FFFFFF;\n",
              "    }\n",
              "  </style>\n",
              "\n",
              "      <script>\n",
              "        const buttonEl =\n",
              "          document.querySelector('#df-0b738a30-2500-4953-9ecb-3a28e04e20c0 button.colab-df-convert');\n",
              "        buttonEl.style.display =\n",
              "          google.colab.kernel.accessAllowed ? 'block' : 'none';\n",
              "\n",
              "        async function convertToInteractive(key) {\n",
              "          const element = document.querySelector('#df-0b738a30-2500-4953-9ecb-3a28e04e20c0');\n",
              "          const dataTable =\n",
              "            await google.colab.kernel.invokeFunction('convertToInteractive',\n",
              "                                                     [key], {});\n",
              "          if (!dataTable) return;\n",
              "\n",
              "          const docLinkHtml = 'Like what you see? Visit the ' +\n",
              "            '<a target=\"_blank\" href=https://colab.research.google.com/notebooks/data_table.ipynb>data table notebook</a>'\n",
              "            + ' to learn more about interactive tables.';\n",
              "          element.innerHTML = '';\n",
              "          dataTable['output_type'] = 'display_data';\n",
              "          await google.colab.output.renderOutput(dataTable, element);\n",
              "          const docLink = document.createElement('div');\n",
              "          docLink.innerHTML = docLinkHtml;\n",
              "          element.appendChild(docLink);\n",
              "        }\n",
              "      </script>\n",
              "    </div>\n",
              "  </div>\n",
              "  "
            ]
          },
          "metadata": {},
          "execution_count": 278
        }
      ]
    },
    {
      "cell_type": "code",
      "source": [
        "merged_df = pd.merge(survey_df, dev_type_df, left_index=True, right_index=True, how='inner')"
      ],
      "metadata": {
        "id": "38FV2v5u9M1X"
      },
      "execution_count": null,
      "outputs": []
    },
    {
      "cell_type": "code",
      "source": [
        "merged_df.head(5)"
      ],
      "metadata": {
        "colab": {
          "base_uri": "https://localhost:8080/",
          "height": 733
        },
        "id": "9dxffVpu9923",
        "outputId": "dd7d3250-ba31-455b-bcab-e6af8aa3203b"
      },
      "execution_count": null,
      "outputs": [
        {
          "output_type": "execute_result",
          "data": {
            "text/plain": [
              "              Country   Age Gender  \\\n",
              "0             Germany   NaN    Man   \n",
              "1      United Kingdom   NaN    NaN   \n",
              "2  Russian Federation   NaN    NaN   \n",
              "3             Albania  25.0    Man   \n",
              "4       United States  31.0    Man   \n",
              "\n",
              "                                           EdLevel  \\\n",
              "0  Master’s degree (M.A., M.S., M.Eng., MBA, etc.)   \n",
              "1     Bachelor’s degree (B.A., B.S., B.Eng., etc.)   \n",
              "2                                              NaN   \n",
              "3  Master’s degree (M.A., M.S., M.Eng., MBA, etc.)   \n",
              "4     Bachelor’s degree (B.A., B.S., B.Eng., etc.)   \n",
              "\n",
              "                                      UndergradMajor Hobbyist  Age1stCode  \\\n",
              "0  Computer science, computer engineering, or sof...      Yes        13.0   \n",
              "1  Computer science, computer engineering, or sof...       No        19.0   \n",
              "2                                                NaN      Yes        15.0   \n",
              "3  Computer science, computer engineering, or sof...      Yes        18.0   \n",
              "4  Computer science, computer engineering, or sof...      Yes        16.0   \n",
              "\n",
              "   YearsCode  YearsCodePro                                         Employment  \\\n",
              "0       36.0          27.0  Independent contractor, freelancer, or self-em...   \n",
              "1        7.0           4.0                                 Employed full-time   \n",
              "2        4.0           NaN                                                NaN   \n",
              "3        7.0           4.0                                                NaN   \n",
              "4       15.0           8.0                                 Employed full-time   \n",
              "\n",
              "   ... System administrator Engineering manager Product manager  \\\n",
              "0  ...                False               False           False   \n",
              "1  ...                False               False           False   \n",
              "2  ...                False               False           False   \n",
              "3  ...                False               False           False   \n",
              "4  ...                False               False           False   \n",
              "\n",
              "  Data or business analyst Academic researcher  \\\n",
              "0                    False               False   \n",
              "1                    False               False   \n",
              "2                    False               False   \n",
              "3                    False               False   \n",
              "4                    False               False   \n",
              "\n",
              "  Data scientist or machine learning specialist  Scientist  \\\n",
              "0                                         False      False   \n",
              "1                                         False      False   \n",
              "2                                         False      False   \n",
              "3                                         False      False   \n",
              "4                                         False      False   \n",
              "\n",
              "   Senior executive/VP  Engineer, site reliability  \\\n",
              "0                False                       False   \n",
              "1                False                       False   \n",
              "2                False                       False   \n",
              "3                False                       False   \n",
              "4                False                       False   \n",
              "\n",
              "   Marketing or sales professional  \n",
              "0                            False  \n",
              "1                            False  \n",
              "2                            False  \n",
              "3                            False  \n",
              "4                            False  \n",
              "\n",
              "[5 rows x 39 columns]"
            ],
            "text/html": [
              "\n",
              "  <div id=\"df-25a36746-ce2c-40b8-9036-7438696739a8\">\n",
              "    <div class=\"colab-df-container\">\n",
              "      <div>\n",
              "<style scoped>\n",
              "    .dataframe tbody tr th:only-of-type {\n",
              "        vertical-align: middle;\n",
              "    }\n",
              "\n",
              "    .dataframe tbody tr th {\n",
              "        vertical-align: top;\n",
              "    }\n",
              "\n",
              "    .dataframe thead th {\n",
              "        text-align: right;\n",
              "    }\n",
              "</style>\n",
              "<table border=\"1\" class=\"dataframe\">\n",
              "  <thead>\n",
              "    <tr style=\"text-align: right;\">\n",
              "      <th></th>\n",
              "      <th>Country</th>\n",
              "      <th>Age</th>\n",
              "      <th>Gender</th>\n",
              "      <th>EdLevel</th>\n",
              "      <th>UndergradMajor</th>\n",
              "      <th>Hobbyist</th>\n",
              "      <th>Age1stCode</th>\n",
              "      <th>YearsCode</th>\n",
              "      <th>YearsCodePro</th>\n",
              "      <th>Employment</th>\n",
              "      <th>...</th>\n",
              "      <th>System administrator</th>\n",
              "      <th>Engineering manager</th>\n",
              "      <th>Product manager</th>\n",
              "      <th>Data or business analyst</th>\n",
              "      <th>Academic researcher</th>\n",
              "      <th>Data scientist or machine learning specialist</th>\n",
              "      <th>Scientist</th>\n",
              "      <th>Senior executive/VP</th>\n",
              "      <th>Engineer, site reliability</th>\n",
              "      <th>Marketing or sales professional</th>\n",
              "    </tr>\n",
              "  </thead>\n",
              "  <tbody>\n",
              "    <tr>\n",
              "      <th>0</th>\n",
              "      <td>Germany</td>\n",
              "      <td>NaN</td>\n",
              "      <td>Man</td>\n",
              "      <td>Master’s degree (M.A., M.S., M.Eng., MBA, etc.)</td>\n",
              "      <td>Computer science, computer engineering, or sof...</td>\n",
              "      <td>Yes</td>\n",
              "      <td>13.0</td>\n",
              "      <td>36.0</td>\n",
              "      <td>27.0</td>\n",
              "      <td>Independent contractor, freelancer, or self-em...</td>\n",
              "      <td>...</td>\n",
              "      <td>False</td>\n",
              "      <td>False</td>\n",
              "      <td>False</td>\n",
              "      <td>False</td>\n",
              "      <td>False</td>\n",
              "      <td>False</td>\n",
              "      <td>False</td>\n",
              "      <td>False</td>\n",
              "      <td>False</td>\n",
              "      <td>False</td>\n",
              "    </tr>\n",
              "    <tr>\n",
              "      <th>1</th>\n",
              "      <td>United Kingdom</td>\n",
              "      <td>NaN</td>\n",
              "      <td>NaN</td>\n",
              "      <td>Bachelor’s degree (B.A., B.S., B.Eng., etc.)</td>\n",
              "      <td>Computer science, computer engineering, or sof...</td>\n",
              "      <td>No</td>\n",
              "      <td>19.0</td>\n",
              "      <td>7.0</td>\n",
              "      <td>4.0</td>\n",
              "      <td>Employed full-time</td>\n",
              "      <td>...</td>\n",
              "      <td>False</td>\n",
              "      <td>False</td>\n",
              "      <td>False</td>\n",
              "      <td>False</td>\n",
              "      <td>False</td>\n",
              "      <td>False</td>\n",
              "      <td>False</td>\n",
              "      <td>False</td>\n",
              "      <td>False</td>\n",
              "      <td>False</td>\n",
              "    </tr>\n",
              "    <tr>\n",
              "      <th>2</th>\n",
              "      <td>Russian Federation</td>\n",
              "      <td>NaN</td>\n",
              "      <td>NaN</td>\n",
              "      <td>NaN</td>\n",
              "      <td>NaN</td>\n",
              "      <td>Yes</td>\n",
              "      <td>15.0</td>\n",
              "      <td>4.0</td>\n",
              "      <td>NaN</td>\n",
              "      <td>NaN</td>\n",
              "      <td>...</td>\n",
              "      <td>False</td>\n",
              "      <td>False</td>\n",
              "      <td>False</td>\n",
              "      <td>False</td>\n",
              "      <td>False</td>\n",
              "      <td>False</td>\n",
              "      <td>False</td>\n",
              "      <td>False</td>\n",
              "      <td>False</td>\n",
              "      <td>False</td>\n",
              "    </tr>\n",
              "    <tr>\n",
              "      <th>3</th>\n",
              "      <td>Albania</td>\n",
              "      <td>25.0</td>\n",
              "      <td>Man</td>\n",
              "      <td>Master’s degree (M.A., M.S., M.Eng., MBA, etc.)</td>\n",
              "      <td>Computer science, computer engineering, or sof...</td>\n",
              "      <td>Yes</td>\n",
              "      <td>18.0</td>\n",
              "      <td>7.0</td>\n",
              "      <td>4.0</td>\n",
              "      <td>NaN</td>\n",
              "      <td>...</td>\n",
              "      <td>False</td>\n",
              "      <td>False</td>\n",
              "      <td>False</td>\n",
              "      <td>False</td>\n",
              "      <td>False</td>\n",
              "      <td>False</td>\n",
              "      <td>False</td>\n",
              "      <td>False</td>\n",
              "      <td>False</td>\n",
              "      <td>False</td>\n",
              "    </tr>\n",
              "    <tr>\n",
              "      <th>4</th>\n",
              "      <td>United States</td>\n",
              "      <td>31.0</td>\n",
              "      <td>Man</td>\n",
              "      <td>Bachelor’s degree (B.A., B.S., B.Eng., etc.)</td>\n",
              "      <td>Computer science, computer engineering, or sof...</td>\n",
              "      <td>Yes</td>\n",
              "      <td>16.0</td>\n",
              "      <td>15.0</td>\n",
              "      <td>8.0</td>\n",
              "      <td>Employed full-time</td>\n",
              "      <td>...</td>\n",
              "      <td>False</td>\n",
              "      <td>False</td>\n",
              "      <td>False</td>\n",
              "      <td>False</td>\n",
              "      <td>False</td>\n",
              "      <td>False</td>\n",
              "      <td>False</td>\n",
              "      <td>False</td>\n",
              "      <td>False</td>\n",
              "      <td>False</td>\n",
              "    </tr>\n",
              "  </tbody>\n",
              "</table>\n",
              "<p>5 rows × 39 columns</p>\n",
              "</div>\n",
              "      <button class=\"colab-df-convert\" onclick=\"convertToInteractive('df-25a36746-ce2c-40b8-9036-7438696739a8')\"\n",
              "              title=\"Convert this dataframe to an interactive table.\"\n",
              "              style=\"display:none;\">\n",
              "        \n",
              "  <svg xmlns=\"http://www.w3.org/2000/svg\" height=\"24px\"viewBox=\"0 0 24 24\"\n",
              "       width=\"24px\">\n",
              "    <path d=\"M0 0h24v24H0V0z\" fill=\"none\"/>\n",
              "    <path d=\"M18.56 5.44l.94 2.06.94-2.06 2.06-.94-2.06-.94-.94-2.06-.94 2.06-2.06.94zm-11 1L8.5 8.5l.94-2.06 2.06-.94-2.06-.94L8.5 2.5l-.94 2.06-2.06.94zm10 10l.94 2.06.94-2.06 2.06-.94-2.06-.94-.94-2.06-.94 2.06-2.06.94z\"/><path d=\"M17.41 7.96l-1.37-1.37c-.4-.4-.92-.59-1.43-.59-.52 0-1.04.2-1.43.59L10.3 9.45l-7.72 7.72c-.78.78-.78 2.05 0 2.83L4 21.41c.39.39.9.59 1.41.59.51 0 1.02-.2 1.41-.59l7.78-7.78 2.81-2.81c.8-.78.8-2.07 0-2.86zM5.41 20L4 18.59l7.72-7.72 1.47 1.35L5.41 20z\"/>\n",
              "  </svg>\n",
              "      </button>\n",
              "      \n",
              "  <style>\n",
              "    .colab-df-container {\n",
              "      display:flex;\n",
              "      flex-wrap:wrap;\n",
              "      gap: 12px;\n",
              "    }\n",
              "\n",
              "    .colab-df-convert {\n",
              "      background-color: #E8F0FE;\n",
              "      border: none;\n",
              "      border-radius: 50%;\n",
              "      cursor: pointer;\n",
              "      display: none;\n",
              "      fill: #1967D2;\n",
              "      height: 32px;\n",
              "      padding: 0 0 0 0;\n",
              "      width: 32px;\n",
              "    }\n",
              "\n",
              "    .colab-df-convert:hover {\n",
              "      background-color: #E2EBFA;\n",
              "      box-shadow: 0px 1px 2px rgba(60, 64, 67, 0.3), 0px 1px 3px 1px rgba(60, 64, 67, 0.15);\n",
              "      fill: #174EA6;\n",
              "    }\n",
              "\n",
              "    [theme=dark] .colab-df-convert {\n",
              "      background-color: #3B4455;\n",
              "      fill: #D2E3FC;\n",
              "    }\n",
              "\n",
              "    [theme=dark] .colab-df-convert:hover {\n",
              "      background-color: #434B5C;\n",
              "      box-shadow: 0px 1px 3px 1px rgba(0, 0, 0, 0.15);\n",
              "      filter: drop-shadow(0px 1px 2px rgba(0, 0, 0, 0.3));\n",
              "      fill: #FFFFFF;\n",
              "    }\n",
              "  </style>\n",
              "\n",
              "      <script>\n",
              "        const buttonEl =\n",
              "          document.querySelector('#df-25a36746-ce2c-40b8-9036-7438696739a8 button.colab-df-convert');\n",
              "        buttonEl.style.display =\n",
              "          google.colab.kernel.accessAllowed ? 'block' : 'none';\n",
              "\n",
              "        async function convertToInteractive(key) {\n",
              "          const element = document.querySelector('#df-25a36746-ce2c-40b8-9036-7438696739a8');\n",
              "          const dataTable =\n",
              "            await google.colab.kernel.invokeFunction('convertToInteractive',\n",
              "                                                     [key], {});\n",
              "          if (!dataTable) return;\n",
              "\n",
              "          const docLinkHtml = 'Like what you see? Visit the ' +\n",
              "            '<a target=\"_blank\" href=https://colab.research.google.com/notebooks/data_table.ipynb>data table notebook</a>'\n",
              "            + ' to learn more about interactive tables.';\n",
              "          element.innerHTML = '';\n",
              "          dataTable['output_type'] = 'display_data';\n",
              "          await google.colab.output.renderOutput(dataTable, element);\n",
              "          const docLink = document.createElement('div');\n",
              "          docLink.innerHTML = docLinkHtml;\n",
              "          element.appendChild(docLink);\n",
              "        }\n",
              "      </script>\n",
              "    </div>\n",
              "  </div>\n",
              "  "
            ]
          },
          "metadata": {},
          "execution_count": 67
        }
      ]
    },
    {
      "cell_type": "code",
      "source": [
        "filtered_df=merged_df[merged_df['Data scientist or machine learning specialist']==True]"
      ],
      "metadata": {
        "id": "gwVXl4NN91BK"
      },
      "execution_count": null,
      "outputs": []
    },
    {
      "cell_type": "code",
      "source": [
        "filtered_df.shape"
      ],
      "metadata": {
        "colab": {
          "base_uri": "https://localhost:8080/"
        },
        "id": "Ww14ioBF-D6X",
        "outputId": "3213bb34-017f-4a9a-c913-5dc672628302"
      },
      "execution_count": null,
      "outputs": [
        {
          "output_type": "execute_result",
          "data": {
            "text/plain": [
              "(3951, 39)"
            ]
          },
          "metadata": {},
          "execution_count": 69
        }
      ]
    },
    {
      "cell_type": "code",
      "source": [
        "(filtered_df.NEWEdImpt.value_counts(normalize=True, ascending=True)*100).plot(kind='barh', color='g')\n",
        "plt.title(schema.NEWEdImpt)\n",
        "plt.xlabel('Percentage');"
      ],
      "metadata": {
        "colab": {
          "base_uri": "https://localhost:8080/",
          "height": 362
        },
        "id": "BfoXb6gv-H5i",
        "outputId": "a10b490b-2822-477f-bf80-c464c887fb67"
      },
      "execution_count": null,
      "outputs": [
        {
          "output_type": "display_data",
          "data": {
            "text/plain": [
              "<Figure size 648x360 with 1 Axes>"
            ],
            "image/png": "[encoded data removed]"
          },
          "metadata": {
            "needs_background": "light"
          }
        }
      ]
    },
    {
      "cell_type": "markdown",
      "source": [
        "### There is high ratio of people who think formal education is important in data science career compared to people in other careers."
      ],
      "metadata": {
        "id": "3uhH68Mlm3sq"
      }
    },
    {
      "cell_type": "markdown",
      "source": [
        "###How is the ratio of different genders in data science ?"
      ],
      "metadata": {
        "id": "TKTbmnP1ff49"
      }
    },
    {
      "cell_type": "code",
      "source": [
        "plt.figure(figsize=(12,6))\n",
        "plt.title(schema.Gender)\n",
        "plt.pie(gender_counts, labels=gender_counts.index, autopct='%1.1f%%', startangle=180);"
      ],
      "metadata": {
        "colab": {
          "base_uri": "https://localhost:8080/",
          "height": 377
        },
        "id": "h_VZ-eShGd7j",
        "outputId": "d9b28775-1a84-4e14-dcc5-de1e1a0e2c1d"
      },
      "execution_count": null,
      "outputs": [
        {
          "output_type": "display_data",
          "data": {
            "text/plain": [
              "<Figure size 864x432 with 1 Axes>"
            ],
            "image/png": "[encoded data removed]"
          },
          "metadata": {}
        }
      ]
    },
    {
      "cell_type": "code",
      "source": [
        "filtered_df['Gender'].value_counts()"
      ],
      "metadata": {
        "colab": {
          "base_uri": "https://localhost:8080/"
        },
        "id": "A-ez2bGS-Y7k",
        "outputId": "dd503539-6306-4712-b048-431c6d18c3d5"
      },
      "execution_count": null,
      "outputs": [
        {
          "output_type": "execute_result",
          "data": {
            "text/plain": [
              "Man                                                  3056\n",
              "Woman                                                 306\n",
              "Non-binary, genderqueer, or gender non-conforming      23\n",
              "Name: Gender, dtype: int64"
            ]
          },
          "metadata": {},
          "execution_count": 72
        }
      ]
    },
    {
      "cell_type": "code",
      "source": [
        "(filtered_df.Gender.value_counts(normalize=True, ascending=True)*100).plot(kind='barh', color='g')\n",
        "plt.title('WorldWide Gender Ratio in Data Science')\n",
        "plt.xlabel('Percentage');"
      ],
      "metadata": {
        "colab": {
          "base_uri": "https://localhost:8080/",
          "height": 362
        },
        "id": "LFc4d_-1-h7P",
        "outputId": "c11affe8-d73d-40f7-c101-517ca4443986"
      },
      "execution_count": null,
      "outputs": [
        {
          "output_type": "display_data",
          "data": {
            "text/plain": [
              "<Figure size 648x360 with 1 Axes>"
            ],
            "image/png": "[encoded data removed]"
          },
          "metadata": {
            "needs_background": "light"
          }
        }
      ]
    },
    {
      "cell_type": "code",
      "source": [],
      "metadata": {
        "id": "M_0DJylKGtAG"
      },
      "execution_count": null,
      "outputs": []
    },
    {
      "cell_type": "code",
      "source": [
        "plt.figure(figsize=(12,6))\n",
        "plt.title(schema.Gender)\n",
        "plt.pie(filtered_df['Gender'].value_counts(), labels=filtered_df['Gender'].value_counts().index, autopct='%1.1f%%', startangle=180);"
      ],
      "metadata": {
        "colab": {
          "base_uri": "https://localhost:8080/",
          "height": 377
        },
        "id": "AuWeeAI8GhCa",
        "outputId": "3055c3ad-f793-4296-b995-09cd9467b88a"
      },
      "execution_count": null,
      "outputs": [
        {
          "output_type": "display_data",
          "data": {
            "text/plain": [
              "<Figure size 864x432 with 1 Axes>"
            ],
            "image/png": "[encoded data removed]"
          },
          "metadata": {}
        }
      ]
    },
    {
      "cell_type": "markdown",
      "source": [
        "##### Woman in data science are 1% higher percentage compared to the women in all tech professionals.It shows there should be initiatives to be taken to promote diversity."
      ],
      "metadata": {
        "id": "7yOh4o0qnbI4"
      }
    },
    {
      "cell_type": "markdown",
      "source": [
        "### Summary\n",
        "I have drawn many inferences from the survey. Here's a summary of a few of them:\n",
        "\n",
        "**.**Based on the survey respondents' demographics, we can infer that the survey is somewhat representative of the overall programming community. However, it has fewer responses from programmers in non-English-speaking countries and women & non-binary genders.\n",
        "\n",
        "**.**The programming community is not as diverse as it can be. Although things are improving, we should make more efforts to support & encourage underrepresented communities, whether in terms of age, country, race, gender, or otherwise.\n",
        "\n",
        "**.**Woman in data science are 1% higher percentage compared to the women in all tech professionals.It shows there should be initiatives to be taken to promote diversity.\n",
        "\n",
        "**.**There is high ratio of people who think formal education is important in data science career compared to people in other careers.\n",
        "\n",
        "**.**Most people learn more about companies through the third party sites like glassdoor which isn't surprising.\n",
        "\n",
        "**.**Around 30% of  people update the knowledge for every few months and then other 30 % of people learn for once a year.Its not surprising because to stay relevant field they need to update their knowledge regularly.\n",
        "\n",
        "**.**There wasnt any significance relationship with the experience and the feeling after not solving a problem which is solved earlier.So we can say that it mostly depends on the attitude more than experience.\n",
        "\n",
        "**.**Most common roles include developer.Data Scientist and Data analyst contribute around 4 percent ."
      ],
      "metadata": {
        "id": "s_WkbqVMoE2e"
      }
    }
  ]
}